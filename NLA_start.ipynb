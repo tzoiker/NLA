{
 "metadata": {
  "name": "",
  "signature": "sha256:9b6e6a35e1187515e02e8b0646e346fe524d13486ad5175e12dad668e29e2a2d"
 },
 "nbformat": 3,
 "nbformat_minor": 0,
 "worksheets": [
  {
   "cells": [
    {
     "cell_type": "heading",
     "level": 1,
     "metadata": {
      "slideshow": {
       "slide_type": "slide"
      }
     },
     "source": [
      "Numerical linear algebra, Skoltech, Fall 2014, general course info."
     ]
    },
    {
     "cell_type": "markdown",
     "metadata": {
      "slideshow": {
       "slide_type": "slide"
      }
     },
     "source": [
      "## Team\n",
      "Ivan Oseledets, Associate Professor, Skoltech  \n",
      "Maxim Rakhuba, TA  \n",
      "Denis Kolesnikov, TA  \n",
      "Evgeny Frolov, TA"
     ]
    },
    {
     "cell_type": "markdown",
     "metadata": {
      "slideshow": {
       "slide_type": "slide"
      }
     },
     "source": [
      "## How do we grade\n",
      "\n",
      "- **50%** homework\n",
      "- **50%** 2 written tests\n",
      "- **pass-fail** ping-pong test\n",
      "\n",
      "**Strict** deadlines  \n",
      "Attendance control **not strict** (although do not disappoint us)"
     ]
    },
    {
     "cell_type": "markdown",
     "metadata": {
      "slideshow": {
       "slide_type": "slide"
      }
     },
     "source": [
      "## Course description\n",
      "\n",
      "- Numerical linear algebra is the basis for all modern computations\n",
      "- Matrices and their decompositions are the key\n",
      "- The tools are different for small-scale and large-scale problems\n",
      "- The idea is to give the basis for other IT courses in Comp. math. track \n",
      "- Python ecosystem will be used in a consistent manner for lectures and homeworks\n"
     ]
    },
    {
     "cell_type": "markdown",
     "metadata": {
      "slideshow": {
       "slide_type": "-"
      }
     },
     "source": [
      "## Learning outcomes\n",
      "\n",
      "- Solve medium-scale numerical linear algebra problems (solve linear systems, compute eigenvalues and eigenvectors) using matrix factorizations\n",
      "- Iterative methods for sparse/structured systems\n",
      "- Find which methods are the most appropriate for the particular problem\n",
      "- Find appropriate software"
     ]
    },
    {
     "cell_type": "markdown",
     "metadata": {
      "slideshow": {
       "slide_type": "-"
      }
     },
     "source": [
      "## Some details\n",
      "- We will use Python ecosystem for programming. The first week we will spend for the Python crash course (including today)\n",
      "- Programming part of the homework will be distributed in the form of **IPython notebooks**"
     ]
    },
    {
     "cell_type": "code",
     "collapsed": false,
     "input": [
      "%matplotlib inline\n",
      "import numpy as np\n",
      "import matplotlib.pyplot as plt\n",
      "x = np.linspace(0, 30, 128)\n",
      "plt.plot(x, np.sin(2 * x))"
     ],
     "language": "python",
     "metadata": {
      "code_folding": [],
      "slideshow": {
       "slide_type": "-"
      }
     },
     "outputs": [
      {
       "metadata": {},
       "output_type": "pyout",
       "prompt_number": 1,
       "text": [
        "[<matplotlib.lines.Line2D at 0x10e28c710>]"
       ]
      },
      {
       "metadata": {},
       "output_type": "display_data",
       "png": "[encoded data removed]",
       "text": [
        "<matplotlib.figure.Figure at 0x1044574d0>"
       ]
      }
     ],
     "prompt_number": 1
    },
    {
     "cell_type": "markdown",
     "metadata": {
      "slideshow": {
       "slide_type": "slide"
      }
     },
     "source": [
      "## Syllabus\n",
      "- **Week 1:** Python crash course + some games with matrices\n",
      "- **Week 2:** Matrices, vectors, norms, ranks\n",
      "- **Week 3:** Linear systems, eigenvectors, eigenvalues \n",
      "- **Week 4:** Matrix decompositions (LU, QR, SVD) + test\n",
      "- **Week 5:** Sparse matrices and structured matrices\n",
      "- **Week 6:** Iterative methods / preconditioners / matrix functions\n",
      "- **Week 7:** Ping-pong + written test\n",
      "- **Week 8:** Application period\n",
      "\n",
      "## Homework\n",
      "- 6 problem sets\n",
      "- Each friday (starting from the **week 2**) will be the deadline\n",
      "- Everybody has a resource of **5 days** to postpone problem sets deadlines\n",
      "\n",
      "## Tests\n",
      "- 2 written tests (**week 4** and **week 7**)\n",
      "- Ping-pong test (**week 7**)"
     ]
    },
    {
     "cell_type": "markdown",
     "metadata": {
      "slideshow": {
       "slide_type": "-"
      }
     },
     "source": [
      "##Books\n",
      "\n",
      "- Golub, Van Loan, \"Matrix computations\" (4th edition)\n",
      "- Tyrtyshnikov, \"Brief introduction to numerical analysis\"\n",
      "- Demmel, \"Numerical Linear Algebra\"\n",
      "\n",
      "Maxim Rakhuba: m.rakhuba@skolkovotech.ru  \n",
      "Ivan Oseledets: i.oseledets@skolkovotech.ru\n"
     ]
    },
    {
     "cell_type": "markdown",
     "metadata": {},
     "source": [
      "Now let us go to [Python intro](Python_crash_course.ipynb)"
     ]
    },
    {
     "cell_type": "code",
     "collapsed": false,
     "input": [
      "from IPython.core.display import HTML\n",
      "def css_styling():\n",
      "    styles = open(\"./styles/custom.css\", \"r\").read()\n",
      "    return HTML(styles)\n",
      "css_styling()"
     ],
     "language": "python",
     "metadata": {
      "slideshow": {
       "slide_type": "skip"
      }
     },
     "outputs": [
      {
       "html": [
        "<link href='http://fonts.googleapis.com/css?family=Fenix' rel='stylesheet' type='text/css'>\n",
        "<link href='http://fonts.googleapis.com/css?family=Alegreya+Sans:100,300,400,500,700,800,900,100italic,300italic,400italic,500italic,700italic,800italic,900italic' rel='stylesheet' type='text/css'>\n",
        "<link href='http://fonts.googleapis.com/css?family=Source+Code+Pro:300,400' rel='stylesheet' type='text/css'>\n",
        "<style>\n",
        "    @font-face {\n",
        "        font-family: \"Computer Modern\";\n",
        "        src: url('http://mirrors.ctan.org/fonts/cm-unicode/fonts/otf/cmunss.otf');\n",
        "    }\n",
        "    div.cell{\n",
        "        width:800px;\n",
        "        margin-left:16% !important;\n",
        "        margin-right:auto;\n",
        "    }\n",
        "    h1 {\n",
        "        font-family: 'Alegreya Sans', sans-serif;\n",
        "    }\n",
        "    h2 {\n",
        "        font-family: 'Fenix', serif;\n",
        "    }\n",
        "    h3{\n",
        "\t\tfont-family: 'Fenix', serif;\n",
        "        margin-top:12px;\n",
        "        margin-bottom: 3px;\n",
        "       }\n",
        "\th4{\n",
        "\t\tfont-family: 'Fenix', serif;\n",
        "       }\n",
        "    h5 {\n",
        "        font-family: 'Alegreya Sans', sans-serif;\n",
        "    }\t   \n",
        "    div.text_cell_render{\n",
        "        font-family: 'Alegreya Sans',Computer Modern, \"Helvetica Neue\", Arial, Helvetica, Geneva, sans-serif;\n",
        "        line-height: 135%;\n",
        "        font-size: 120%;\n",
        "        width:600px;\n",
        "        margin-left:auto;\n",
        "        margin-right:auto;\n",
        "    }\n",
        "    .CodeMirror{\n",
        "            font-family: \"Source Code Pro\";\n",
        "\t\t\tfont-size: 90%;\n",
        "    }\n",
        "/*    .prompt{\n",
        "        display: None;\n",
        "    }*/\n",
        "    .text_cell_render h1 {\n",
        "        font-weight: 200;\n",
        "        font-size: 50pt;\n",
        "\t\tline-height: 100%;\n",
        "        color:#CD2305;\n",
        "        margin-bottom: 0.5em;\n",
        "        margin-top: 0.5em;\n",
        "        display: block;\n",
        "    }\t\n",
        "    .text_cell_render h5 {\n",
        "        font-weight: 300;\n",
        "        font-size: 16pt;\n",
        "        color: #CD2305;\n",
        "        font-style: italic;\n",
        "        margin-bottom: .5em;\n",
        "        margin-top: 0.5em;\n",
        "        display: block;\n",
        "    }\n",
        "    \n",
        "    .warning{\n",
        "        color: rgb( 240, 20, 20 )\n",
        "        }  \n",
        "</style>\n",
        "<script>\n",
        "    MathJax.Hub.Config({\n",
        "                        TeX: {\n",
        "                           extensions: [\"AMSmath.js\"]\n",
        "                           },\n",
        "                tex2jax: {\n",
        "                    inlineMath: [ ['$','$'], [\"\\\\(\",\"\\\\)\"] ],\n",
        "                    displayMath: [ ['$$','$$'], [\"\\\\[\",\"\\\\]\"] ]\n",
        "                },\n",
        "                displayAlign: 'center', // Change this to 'center' to center equations.\n",
        "                \"HTML-CSS\": {\n",
        "                    styles: {'.MathJax_Display': {\"margin\": 4}}\n",
        "                }\n",
        "        });\n",
        "</script>\n"
       ],
       "metadata": {},
       "output_type": "pyout",
       "prompt_number": 1,
       "text": [
        "<IPython.core.display.HTML at 0x104457990>"
       ]
      }
     ],
     "prompt_number": 1
    },
    {
     "cell_type": "code",
     "collapsed": false,
     "input": [],
     "language": "python",
     "metadata": {},
     "outputs": []
    }
   ],
   "metadata": {}
  }
 ]
}