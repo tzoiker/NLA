{
 "metadata": {
  "name": "",
  "signature": "sha256:8d28a20e4227aa801b44391580ca530c265ab8e0adb5b52814e4f9b02f05c5b2"
 },
 "nbformat": 3,
 "nbformat_minor": 0,
 "worksheets": [
  {
   "cells": [
    {
     "cell_type": "heading",
     "level": 1,
     "metadata": {
      "slideshow": {
       "slide_type": "slide"
      }
     },
     "source": [
      "Lecture 7: Singular value decomposition"
     ]
    },
    {
     "cell_type": "markdown",
     "metadata": {
      "slideshow": {
       "slide_type": "slide"
      }
     },
     "source": [
      "## Syllabus\n",
      "**Week 1:** Python intro  \n",
      "**Week 2:** Matrices, vectors, norms, ranks  \n",
      "**Week 3:** Linear systems, eigenvectors, eigenvalues  \n",
      "**Week 4:** Singular value decomposition + test + homework seminar"
     ]
    },
    {
     "cell_type": "markdown",
     "metadata": {
      "slideshow": {
       "slide_type": "slide"
      }
     },
     "source": [
      "##Recap of the previous lecture\n",
      "- LU decomposition = Solving linear systems\n",
      "- QR decomposition = Solving linear systems (can be more accurate in the ill-conditioned case, slower than LU, used in the orthogonalization) "
     ]
    },
    {
     "cell_type": "markdown",
     "metadata": {
      "slideshow": {
       "slide_type": "slide"
      }
     },
     "source": [
      "## Today lecture\n",
      "Today we will talk about the singular value decomposition (SVD)\n",
      "- SVD and best low-rank approximation\n",
      "- Applications "
     ]
    },
    {
     "cell_type": "markdown",
     "metadata": {
      "slideshow": {
       "slide_type": "slide"
      }
     },
     "source": [
      "## Singular value decomposition: definition\n",
      "Any $n \\times m$ matrix $A$ can be decomposed into a product  \n",
      "$$\n",
      "   A = U \\Sigma V^*,\n",
      "$$\n",
      "where $U$ is an $n \\times k$ unitary matrix, $V$ is an $m \\times k$ unitary matrix, and $\\Sigma = \\mathrm{diag}(\\sigma_1, \\ldots, \\sigma_k)$ a diagonal matrix with $\\sigma_1 \\geq \\ldots \\sigma_k \\geq 0$ and $k = \\min(m, n)$.\n"
     ]
    },
    {
     "cell_type": "markdown",
     "metadata": {
      "slideshow": {
       "slide_type": "slide"
      }
     },
     "source": [
      "## SVD and low-rank approximation\n",
      "One of the main features of the SVD is to solve the minimization problem  \n",
      "$$\n",
      "  \\Vert A - A_r \\Vert \\rightarrow \\min,\n",
      "$$\n",
      "i.e. find a closest **rank-r** matrix to a given matrix.  \n",
      "The solution is given as  \n",
      "$$\n",
      "     A_r = U_r \\Sigma_r V^*_r,\n",
      "$$\n",
      "where $U_r$ are the first $r$ columns of the matrix $U$, $V_r$ are the first $r$ columns of the matrix $V$ and $\\Sigma_r$ are the first $r$ singular values"
     ]
    },
    {
     "cell_type": "markdown",
     "metadata": {
      "slideshow": {
       "slide_type": "slide"
      }
     },
     "source": [
      "## Existence of the SVD\n",
      "**Theorem.** Any matrix has an SVD decomposition."
     ]
    },
    {
     "cell_type": "markdown",
     "metadata": {
      "slideshow": {
       "slide_type": "fragment"
      }
     },
     "source": [
      "**Proof.**  Recall the definition of $\\sigma = \\Vert A \\Vert_2$ as an operator norm. Thus, there exist vectors $x$, $y$ of unit length such that $Ay = \\sigma x$. Now introduce two unitary matrices  \n",
      "$$U = [x, U_1], \\quad V = [y, V_1].$$\n",
      "Then,\n",
      "$$\n",
      "   U^* A V = \\begin{bmatrix}\n",
      "   \\sigma & w^* \\\\\n",
      "   0 & B\n",
      "   \\end{bmatrix},\n",
      "$$\n",
      "and\n",
      "$$\n",
      "   \\Vert U^* A V \\begin{bmatrix}\n",
      "   \\sigma \\\\\n",
      "   w \n",
      "   \\end{bmatrix}\\Vert^2_2 \\geq (\\sigma^2 + w^* w)^2 \\longrightarrow \\Vert U^* A V \\Vert^2_2 \\geq \\sigma^2 + w^* w.\n",
      "$$\n",
      "Since $\\Vert U^* A V \\Vert = \\sigma$, we get $w = 0$. "
     ]
    },
    {
     "cell_type": "markdown",
     "metadata": {
      "slideshow": {
       "slide_type": "slide"
      }
     },
     "source": [
      "## SVD and eigenvalues\n",
      "From $A = U \\Sigma V^*$ we get\n",
      "$$\n",
      "   A A^* = U \\Sigma^2 U^*, \\quad A^* A = V \\Sigma^2 V^*,\n",
      "$$\n",
      "i.e. you can compute the singular values as a square roots of the eigenvalues of $A^*A$ (or $A A^*$).\n",
      "It is not a good idea, since the maximal precision you might get this way is $\\sqrt{\\varepsilon}$. You just loose half of the digits!"
     ]
    },
    {
     "cell_type": "markdown",
     "metadata": {
      "slideshow": {
       "slide_type": "slide"
      }
     },
     "source": [
      "## How the SVD is actually computed\n",
      "\n",
      "All SVD computations are done in two steps.\n",
      "\n",
      "1. Reduction of a given matrix to a **bidiagonal form**, $B = U^* A V$ by means of Householder/Givens transformations $\\mathcal{O}(n^3)$\n",
      "2. Solving the SVD problem for a bidiagonal matrix.\n",
      "\n",
      "The Golub-Kahan bidiagonalization algorithm was the first (and still one of the most popular) algorithms for solving the SVD problem. It is basically a QR algorithm, **implicitly** applied to a matrix $B^* B$.  "
     ]
    },
    {
     "cell_type": "markdown",
     "metadata": {
      "slideshow": {
       "slide_type": "slide"
      }
     },
     "source": [
      "## Some other SVD properties\n",
      "1. SVD can be used to compute **pseudoinverses** of a matrix, trying to solve the ill-conditioned / rectangular systems, \n",
      "  $$A^{\\dagger} = V^* \\Sigma^{\\dagger} U,$$\n",
      "  where $\\Sigma^{\\dagger}_i = \\min(\\frac{1}{\\sigma_i}, \\frac{1}{\\delta})$, i.e. small singular values are  smoothed\n",
      "  \n",
      "2. SVD gives a full information about the **nullspace** and **range** of the matrix"
     ]
    },
    {
     "cell_type": "markdown",
     "metadata": {
      "slideshow": {
       "slide_type": "slide"
      }
     },
     "source": [
      "## Application 1: Latent semantic analysis\n",
      "One of the most famous application is Latent semantic indexing, see, for example,  \n",
      "[Deerwester, Scott C., et al. \"Indexing by latent semantic analysis.\" (1990)](http://www.cob.unt.edu/itds/faculty/evangelopoulos/dsci5910/LSA_Deerwester1990.pdf)  \n",
      "\n",
      "The problem setup: we have a set of text documents $D_1, \\ldots, D_N.$ We want to solve the search problem: i.e., we have a query as a set of words, and we want to find the best documents.  \n",
      "Our data is processed as follows:  for each document we create a list of words contained in the document, and count the frequencies of each word. This is called the **bag of words** model (i.e., the document is unordered set of words).  "
     ]
    },
    {
     "cell_type": "markdown",
     "metadata": {
      "slideshow": {
       "slide_type": "slide"
      }
     },
     "source": [
      "## Term-document matrix\n",
      "This is how the term-document matrix $A$ is obtained. Its row size is **the size of the dictionary**.   \n",
      "Its column size is **the number of documents**.  An element $A_{ij}$ the the frequency of occurence of the $i$-th word in the $j$-document.\n",
      "\n",
      "To do the search, we can just multiply a term-document matrix by a **search vector**, i.e. a list of words."
     ]
    },
    {
     "cell_type": "markdown",
     "metadata": {
      "slideshow": {
       "slide_type": "fragment"
      }
     },
     "source": [
      "**The problem**: The document will be returned only if there is an exact word match.  However, we might search for \"Samuel Clemens\", and hope to get the results for \"Mark Twain\" as well.  But there might be no exact match!  \n",
      "How the SVD can help?"
     ]
    },
    {
     "cell_type": "markdown",
     "metadata": {
      "slideshow": {
       "slide_type": "slide"
      }
     },
     "source": [
      "## Idea of LSI\n",
      "Compute **low-rank approximation** $A_r$ of the term-document matrix $A$.  \n",
      "$$A \\approx A_r,$$\n",
      "and **we do not care about the approximation error** (i.e., we do not require it to be small).  \n",
      "The matrix $A_r$ can be then used to do queries.  \n",
      "\n",
      "We project the documents to **low-dimensional subspace**, given a query $q$ the projection is  \n",
      "$$q_r = \\Sigma^{-1}_r U^{\\top}_r q$$\n",
      "Now we can compute the similarity between $d_r$ and other projected documents  \n",
      "$$\\widehat{d}_i = \\Sigma^{-1}_r U^{\\top}_r d_i,$$\n",
      "and compute the **cosine** of the angles  between the query and the projected document."
     ]
    },
    {
     "cell_type": "markdown",
     "metadata": {
      "slideshow": {
       "slide_type": "slide"
      }
     },
     "source": [
      "## Demo\n",
      "Now we can test a demo database"
     ]
    },
    {
     "cell_type": "code",
     "collapsed": false,
     "input": [
      "import numpy as np\n",
      "import pandas as pd\n",
      "import re #Regular expressions\n",
      "rows = ['human', 'interface', 'computer', 'user', 'system', 'response', 'time', 'EPS', 'survey', 'trees', 'graph', 'minors']\n",
      "nterms = len(rows)\n",
      "docs = []\n",
      "docs += ['Human machine interface for Lab ABC computer applications']\n",
      "docs += ['A survey of user opinions of computer system response time']\n",
      "docs += ['The EPS user interfaces management system']\n",
      "docs += ['System and human system engineering testing of EPS']\n",
      "docs += ['Relation of user-perceived response time on user management']\n",
      "docs += ['The generation of random, binary, unordered trees']\n",
      "docs += ['The intersection graph of paths in trees']\n",
      "docs += ['Graph minors IV: Width of trees and well-quasi-ordering']\n",
      "docs += ['Graph minors: A survey']\n",
      "ndocs = len(docs)\n",
      "term_doc = np.zeros((nterms, ndocs))\n",
      "\n",
      "nonletters = re.compile('[^a-zA-Z]+') # split by anything non-alphanumeric\n",
      "docs = [set(nonletters.split(i.lower())) for i in docs]\n",
      "rows = [i.lower() for i in rows]\n",
      "for i in xrange(nterms):\n",
      "    for j in xrange(ndocs):\n",
      "        if rows[i] in docs[j]:\n",
      "            term_doc[i, j] = 1\n",
      "\n",
      "#Use pandas to plot        \n",
      "pd.DataFrame(data=term_doc,index=rows)"
     ],
     "language": "python",
     "metadata": {
      "slideshow": {
       "slide_type": "fragment"
      }
     },
     "outputs": [
      {
       "html": [
        "<div style=\"max-height:1000px;max-width:1500px;overflow:auto;\">\n",
        "<table border=\"1\" class=\"dataframe\">\n",
        "  <thead>\n",
        "    <tr style=\"text-align: right;\">\n",
        "      <th></th>\n",
        "      <th>0</th>\n",
        "      <th>1</th>\n",
        "      <th>2</th>\n",
        "      <th>3</th>\n",
        "      <th>4</th>\n",
        "      <th>5</th>\n",
        "      <th>6</th>\n",
        "      <th>7</th>\n",
        "      <th>8</th>\n",
        "    </tr>\n",
        "  </thead>\n",
        "  <tbody>\n",
        "    <tr>\n",
        "      <th>human</th>\n",
        "      <td> 1</td>\n",
        "      <td> 0</td>\n",
        "      <td> 0</td>\n",
        "      <td> 1</td>\n",
        "      <td> 0</td>\n",
        "      <td> 0</td>\n",
        "      <td> 0</td>\n",
        "      <td> 0</td>\n",
        "      <td> 0</td>\n",
        "    </tr>\n",
        "    <tr>\n",
        "      <th>interface</th>\n",
        "      <td> 1</td>\n",
        "      <td> 0</td>\n",
        "      <td> 0</td>\n",
        "      <td> 0</td>\n",
        "      <td> 0</td>\n",
        "      <td> 0</td>\n",
        "      <td> 0</td>\n",
        "      <td> 0</td>\n",
        "      <td> 0</td>\n",
        "    </tr>\n",
        "    <tr>\n",
        "      <th>computer</th>\n",
        "      <td> 1</td>\n",
        "      <td> 1</td>\n",
        "      <td> 0</td>\n",
        "      <td> 0</td>\n",
        "      <td> 0</td>\n",
        "      <td> 0</td>\n",
        "      <td> 0</td>\n",
        "      <td> 0</td>\n",
        "      <td> 0</td>\n",
        "    </tr>\n",
        "    <tr>\n",
        "      <th>user</th>\n",
        "      <td> 0</td>\n",
        "      <td> 1</td>\n",
        "      <td> 1</td>\n",
        "      <td> 0</td>\n",
        "      <td> 1</td>\n",
        "      <td> 0</td>\n",
        "      <td> 0</td>\n",
        "      <td> 0</td>\n",
        "      <td> 0</td>\n",
        "    </tr>\n",
        "    <tr>\n",
        "      <th>system</th>\n",
        "      <td> 0</td>\n",
        "      <td> 1</td>\n",
        "      <td> 1</td>\n",
        "      <td> 1</td>\n",
        "      <td> 0</td>\n",
        "      <td> 0</td>\n",
        "      <td> 0</td>\n",
        "      <td> 0</td>\n",
        "      <td> 0</td>\n",
        "    </tr>\n",
        "    <tr>\n",
        "      <th>response</th>\n",
        "      <td> 0</td>\n",
        "      <td> 1</td>\n",
        "      <td> 0</td>\n",
        "      <td> 0</td>\n",
        "      <td> 1</td>\n",
        "      <td> 0</td>\n",
        "      <td> 0</td>\n",
        "      <td> 0</td>\n",
        "      <td> 0</td>\n",
        "    </tr>\n",
        "    <tr>\n",
        "      <th>time</th>\n",
        "      <td> 0</td>\n",
        "      <td> 1</td>\n",
        "      <td> 0</td>\n",
        "      <td> 0</td>\n",
        "      <td> 1</td>\n",
        "      <td> 0</td>\n",
        "      <td> 0</td>\n",
        "      <td> 0</td>\n",
        "      <td> 0</td>\n",
        "    </tr>\n",
        "    <tr>\n",
        "      <th>eps</th>\n",
        "      <td> 0</td>\n",
        "      <td> 0</td>\n",
        "      <td> 1</td>\n",
        "      <td> 1</td>\n",
        "      <td> 0</td>\n",
        "      <td> 0</td>\n",
        "      <td> 0</td>\n",
        "      <td> 0</td>\n",
        "      <td> 0</td>\n",
        "    </tr>\n",
        "    <tr>\n",
        "      <th>survey</th>\n",
        "      <td> 0</td>\n",
        "      <td> 1</td>\n",
        "      <td> 0</td>\n",
        "      <td> 0</td>\n",
        "      <td> 0</td>\n",
        "      <td> 0</td>\n",
        "      <td> 0</td>\n",
        "      <td> 0</td>\n",
        "      <td> 1</td>\n",
        "    </tr>\n",
        "    <tr>\n",
        "      <th>trees</th>\n",
        "      <td> 0</td>\n",
        "      <td> 0</td>\n",
        "      <td> 0</td>\n",
        "      <td> 0</td>\n",
        "      <td> 0</td>\n",
        "      <td> 1</td>\n",
        "      <td> 1</td>\n",
        "      <td> 1</td>\n",
        "      <td> 0</td>\n",
        "    </tr>\n",
        "    <tr>\n",
        "      <th>graph</th>\n",
        "      <td> 0</td>\n",
        "      <td> 0</td>\n",
        "      <td> 0</td>\n",
        "      <td> 0</td>\n",
        "      <td> 0</td>\n",
        "      <td> 0</td>\n",
        "      <td> 1</td>\n",
        "      <td> 1</td>\n",
        "      <td> 1</td>\n",
        "    </tr>\n",
        "    <tr>\n",
        "      <th>minors</th>\n",
        "      <td> 0</td>\n",
        "      <td> 0</td>\n",
        "      <td> 0</td>\n",
        "      <td> 0</td>\n",
        "      <td> 0</td>\n",
        "      <td> 0</td>\n",
        "      <td> 0</td>\n",
        "      <td> 1</td>\n",
        "      <td> 1</td>\n",
        "    </tr>\n",
        "  </tbody>\n",
        "</table>\n",
        "</div>"
       ],
       "metadata": {},
       "output_type": "pyout",
       "prompt_number": 3,
       "text": [
        "           0  1  2  3  4  5  6  7  8\n",
        "human      1  0  0  1  0  0  0  0  0\n",
        "interface  1  0  0  0  0  0  0  0  0\n",
        "computer   1  1  0  0  0  0  0  0  0\n",
        "user       0  1  1  0  1  0  0  0  0\n",
        "system     0  1  1  1  0  0  0  0  0\n",
        "response   0  1  0  0  1  0  0  0  0\n",
        "time       0  1  0  0  1  0  0  0  0\n",
        "eps        0  0  1  1  0  0  0  0  0\n",
        "survey     0  1  0  0  0  0  0  0  1\n",
        "trees      0  0  0  0  0  1  1  1  0\n",
        "graph      0  0  0  0  0  0  1  1  1\n",
        "minors     0  0  0  0  0  0  0  1  1"
       ]
      }
     ],
     "prompt_number": 3
    },
    {
     "cell_type": "markdown",
     "metadata": {
      "slideshow": {
       "slide_type": "fragment"
      }
     },
     "source": [
      "Now we can compare the results between ordinary matvec and low-rank matvec."
     ]
    },
    {
     "cell_type": "code",
     "collapsed": false,
     "input": [
      "query = 'Human computer interaction'\n",
      "qv = np.zeros((nterms))\n",
      "for i in xrange(nterms):\n",
      "    if re.search(rows[i], query, re.IGNORECASE):\n",
      "        qv[i] = 1\n",
      "res1 = qv.dot(term_doc) #Non-compressed search result\n",
      "\n",
      "u, s, v = np.linalg.svd(term_doc)\n",
      "r = 5\n",
      "u = u[:, :r]\n",
      "s = s[:r]\n",
      "v = v[:r, :] #Numpy transposes\n",
      "appr1  = u.dot(np.diag(s)).dot(v)\n",
      "res2 = qv.dot(appr1)\n",
      "res_all = np.vstack((res1, res2)).T #To make two columns\n",
      "print 'There query is:', query, ',the scores are:'\n",
      "pd.DataFrame(res_all, index=docs, columns=['No SVD', 'SVD'])"
     ],
     "language": "python",
     "metadata": {
      "slideshow": {
       "slide_type": "fragment"
      }
     },
     "outputs": [
      {
       "output_type": "stream",
       "stream": "stdout",
       "text": [
        "There query is: Human computer interaction ,the scores are:\n"
       ]
      },
      {
       "html": [
        "<div style=\"max-height:1000px;max-width:1500px;overflow:auto;\">\n",
        "<table border=\"1\" class=\"dataframe\">\n",
        "  <thead>\n",
        "    <tr style=\"text-align: right;\">\n",
        "      <th></th>\n",
        "      <th>No SVD</th>\n",
        "      <th>SVD</th>\n",
        "    </tr>\n",
        "  </thead>\n",
        "  <tbody>\n",
        "    <tr>\n",
        "      <th>Human machine interface for Lab ABC computer applications</th>\n",
        "      <td> 2</td>\n",
        "      <td> 2.087969</td>\n",
        "    </tr>\n",
        "    <tr>\n",
        "      <th>A survey of user opinions of computer system response time</th>\n",
        "      <td> 1</td>\n",
        "      <td> 0.927427</td>\n",
        "    </tr>\n",
        "    <tr>\n",
        "      <th>The EPS user interfaces management system</th>\n",
        "      <td> 0</td>\n",
        "      <td> 0.329092</td>\n",
        "    </tr>\n",
        "    <tr>\n",
        "      <th>System and human system engineering testing of EPS</th>\n",
        "      <td> 1</td>\n",
        "      <td> 0.605656</td>\n",
        "    </tr>\n",
        "    <tr>\n",
        "      <th>Relation of user-perceived response time on user management</th>\n",
        "      <td> 0</td>\n",
        "      <td>-0.043570</td>\n",
        "    </tr>\n",
        "    <tr>\n",
        "      <th>The generation of random, binary, unordered trees</th>\n",
        "      <td> 0</td>\n",
        "      <td>-0.008597</td>\n",
        "    </tr>\n",
        "    <tr>\n",
        "      <th>The intersection graph of paths in trees</th>\n",
        "      <td> 0</td>\n",
        "      <td>-0.027086</td>\n",
        "    </tr>\n",
        "    <tr>\n",
        "      <th>Graph minors IV: Width of trees and well-quasi-ordering</th>\n",
        "      <td> 0</td>\n",
        "      <td>-0.044239</td>\n",
        "    </tr>\n",
        "    <tr>\n",
        "      <th>Graph minors: A survey</th>\n",
        "      <td> 0</td>\n",
        "      <td> 0.097481</td>\n",
        "    </tr>\n",
        "  </tbody>\n",
        "</table>\n",
        "</div>"
       ],
       "metadata": {},
       "output_type": "pyout",
       "prompt_number": 5,
       "text": [
        "                                                             No SVD       SVD\n",
        "Human machine interface for Lab ABC computer applications         2  2.087969\n",
        "A survey of user opinions of computer system response time        1  0.927427\n",
        "The EPS user interfaces management system                         0  0.329092\n",
        "System and human system engineering testing of EPS                1  0.605656\n",
        "Relation of user-perceived response time on user management       0 -0.043570\n",
        "The generation of random, binary, unordered trees                 0 -0.008597\n",
        "The intersection graph of paths in trees                          0 -0.027086\n",
        "Graph minors IV: Width of trees and well-quasi-ordering           0 -0.044239\n",
        "Graph minors: A survey                                            0  0.097481"
       ]
      }
     ],
     "prompt_number": 5
    },
    {
     "cell_type": "markdown",
     "metadata": {
      "slideshow": {
       "slide_type": "slide"
      }
     },
     "source": [
      "## Application 2: Collaborative filtering\n",
      "\n",
      "Another important (and similar) application comes from **recommender systems**.  \n",
      "Suppose you have a **user-product matrix**: each user puts a rating for a particular product.  \n",
      "The matrix is then **the number of users times the number of products**. The goal is to recommend additional products to be bought for a particular user.  \n",
      "The scheme is the same: we compute the SVD, and the recommendation for each user is just a column of the approximated matrix."
     ]
    },
    {
     "cell_type": "code",
     "collapsed": false,
     "input": [
      "data_read = np.loadtxt('task2_transact_eval.txt',dtype=np.int32, skiprows=1,delimiter='|')"
     ],
     "language": "python",
     "metadata": {
      "slideshow": {
       "slide_type": "fragment"
      }
     },
     "outputs": [],
     "prompt_number": 6
    },
    {
     "cell_type": "code",
     "collapsed": false,
     "input": [
      "#Read the data\n",
      "columns = ['SessionNo', 'ItemNo', 'TransType']\n",
      "ds = pd.DataFrame(data=data_read,columns=columns)\n",
      "ds"
     ],
     "language": "python",
     "metadata": {
      "slideshow": {
       "slide_type": "fragment"
      }
     },
     "outputs": [
      {
       "html": [
        "<div style=\"max-height:1000px;max-width:1500px;overflow:auto;\">\n",
        "<table border=\"1\" class=\"dataframe\">\n",
        "  <thead>\n",
        "    <tr style=\"text-align: right;\">\n",
        "      <th></th>\n",
        "      <th>SessionNo</th>\n",
        "      <th>ItemNo</th>\n",
        "      <th>TransType</th>\n",
        "    </tr>\n",
        "  </thead>\n",
        "  <tbody>\n",
        "    <tr>\n",
        "      <th>0     </th>\n",
        "      <td>      0</td>\n",
        "      <td> 15029</td>\n",
        "      <td> 0</td>\n",
        "    </tr>\n",
        "    <tr>\n",
        "      <th>1     </th>\n",
        "      <td>      0</td>\n",
        "      <td> 12103</td>\n",
        "      <td> 0</td>\n",
        "    </tr>\n",
        "    <tr>\n",
        "      <th>2     </th>\n",
        "      <td>      0</td>\n",
        "      <td> 11755</td>\n",
        "      <td> 0</td>\n",
        "    </tr>\n",
        "    <tr>\n",
        "      <th>3     </th>\n",
        "      <td>      0</td>\n",
        "      <td>  2246</td>\n",
        "      <td> 0</td>\n",
        "    </tr>\n",
        "    <tr>\n",
        "      <th>4     </th>\n",
        "      <td>      1</td>\n",
        "      <td>  6498</td>\n",
        "      <td> 0</td>\n",
        "    </tr>\n",
        "    <tr>\n",
        "      <th>5     </th>\n",
        "      <td>      1</td>\n",
        "      <td>  6498</td>\n",
        "      <td> 1</td>\n",
        "    </tr>\n",
        "    <tr>\n",
        "      <th>6     </th>\n",
        "      <td>      1</td>\n",
        "      <td>  6498</td>\n",
        "      <td> 0</td>\n",
        "    </tr>\n",
        "    <tr>\n",
        "      <th>7     </th>\n",
        "      <td>      1</td>\n",
        "      <td>  3726</td>\n",
        "      <td> 0</td>\n",
        "    </tr>\n",
        "    <tr>\n",
        "      <th>8     </th>\n",
        "      <td>      1</td>\n",
        "      <td>  3726</td>\n",
        "      <td> 1</td>\n",
        "    </tr>\n",
        "    <tr>\n",
        "      <th>9     </th>\n",
        "      <td>      1</td>\n",
        "      <td>  6498</td>\n",
        "      <td> 0</td>\n",
        "    </tr>\n",
        "    <tr>\n",
        "      <th>10    </th>\n",
        "      <td>      1</td>\n",
        "      <td>  6720</td>\n",
        "      <td> 0</td>\n",
        "    </tr>\n",
        "    <tr>\n",
        "      <th>11    </th>\n",
        "      <td>      1</td>\n",
        "      <td> 11396</td>\n",
        "      <td> 0</td>\n",
        "    </tr>\n",
        "    <tr>\n",
        "      <th>12    </th>\n",
        "      <td>      1</td>\n",
        "      <td> 11396</td>\n",
        "      <td> 1</td>\n",
        "    </tr>\n",
        "    <tr>\n",
        "      <th>13    </th>\n",
        "      <td>      1</td>\n",
        "      <td>  6498</td>\n",
        "      <td> 2</td>\n",
        "    </tr>\n",
        "    <tr>\n",
        "      <th>14    </th>\n",
        "      <td>      1</td>\n",
        "      <td>  3726</td>\n",
        "      <td> 2</td>\n",
        "    </tr>\n",
        "    <tr>\n",
        "      <th>15    </th>\n",
        "      <td>      1</td>\n",
        "      <td> 11396</td>\n",
        "      <td> 2</td>\n",
        "    </tr>\n",
        "    <tr>\n",
        "      <th>16    </th>\n",
        "      <td>      3</td>\n",
        "      <td>  5335</td>\n",
        "      <td> 0</td>\n",
        "    </tr>\n",
        "    <tr>\n",
        "      <th>17    </th>\n",
        "      <td>      3</td>\n",
        "      <td>   724</td>\n",
        "      <td> 0</td>\n",
        "    </tr>\n",
        "    <tr>\n",
        "      <th>18    </th>\n",
        "      <td>      3</td>\n",
        "      <td>  9436</td>\n",
        "      <td> 0</td>\n",
        "    </tr>\n",
        "    <tr>\n",
        "      <th>19    </th>\n",
        "      <td>      4</td>\n",
        "      <td> 10003</td>\n",
        "      <td> 0</td>\n",
        "    </tr>\n",
        "    <tr>\n",
        "      <th>20    </th>\n",
        "      <td>      4</td>\n",
        "      <td>  5166</td>\n",
        "      <td> 0</td>\n",
        "    </tr>\n",
        "    <tr>\n",
        "      <th>21    </th>\n",
        "      <td>      4</td>\n",
        "      <td>  1962</td>\n",
        "      <td> 0</td>\n",
        "    </tr>\n",
        "    <tr>\n",
        "      <th>22    </th>\n",
        "      <td>      4</td>\n",
        "      <td> 15235</td>\n",
        "      <td> 0</td>\n",
        "    </tr>\n",
        "    <tr>\n",
        "      <th>23    </th>\n",
        "      <td>      4</td>\n",
        "      <td>  1608</td>\n",
        "      <td> 0</td>\n",
        "    </tr>\n",
        "    <tr>\n",
        "      <th>24    </th>\n",
        "      <td>      4</td>\n",
        "      <td>  5214</td>\n",
        "      <td> 0</td>\n",
        "    </tr>\n",
        "    <tr>\n",
        "      <th>25    </th>\n",
        "      <td>      4</td>\n",
        "      <td> 11358</td>\n",
        "      <td> 0</td>\n",
        "    </tr>\n",
        "    <tr>\n",
        "      <th>26    </th>\n",
        "      <td>      4</td>\n",
        "      <td>  7566</td>\n",
        "      <td> 0</td>\n",
        "    </tr>\n",
        "    <tr>\n",
        "      <th>27    </th>\n",
        "      <td>      4</td>\n",
        "      <td>  2825</td>\n",
        "      <td> 0</td>\n",
        "    </tr>\n",
        "    <tr>\n",
        "      <th>28    </th>\n",
        "      <td>      4</td>\n",
        "      <td>  5214</td>\n",
        "      <td> 0</td>\n",
        "    </tr>\n",
        "    <tr>\n",
        "      <th>29    </th>\n",
        "      <td>      4</td>\n",
        "      <td>  1962</td>\n",
        "      <td> 0</td>\n",
        "    </tr>\n",
        "    <tr>\n",
        "      <th>...</th>\n",
        "      <td>...</td>\n",
        "      <td>...</td>\n",
        "      <td>...</td>\n",
        "    </tr>\n",
        "    <tr>\n",
        "      <th>985115</th>\n",
        "      <td> 145683</td>\n",
        "      <td>  3901</td>\n",
        "      <td> 2</td>\n",
        "    </tr>\n",
        "    <tr>\n",
        "      <th>985116</th>\n",
        "      <td> 145683</td>\n",
        "      <td>   329</td>\n",
        "      <td> 2</td>\n",
        "    </tr>\n",
        "    <tr>\n",
        "      <th>985117</th>\n",
        "      <td> 145685</td>\n",
        "      <td> 13867</td>\n",
        "      <td> 0</td>\n",
        "    </tr>\n",
        "    <tr>\n",
        "      <th>985118</th>\n",
        "      <td> 145685</td>\n",
        "      <td> 13805</td>\n",
        "      <td> 0</td>\n",
        "    </tr>\n",
        "    <tr>\n",
        "      <th>985119</th>\n",
        "      <td> 145685</td>\n",
        "      <td> 11800</td>\n",
        "      <td> 0</td>\n",
        "    </tr>\n",
        "    <tr>\n",
        "      <th>985120</th>\n",
        "      <td> 145685</td>\n",
        "      <td> 14161</td>\n",
        "      <td> 0</td>\n",
        "    </tr>\n",
        "    <tr>\n",
        "      <th>985121</th>\n",
        "      <td> 145685</td>\n",
        "      <td>  9266</td>\n",
        "      <td> 0</td>\n",
        "    </tr>\n",
        "    <tr>\n",
        "      <th>985122</th>\n",
        "      <td> 145685</td>\n",
        "      <td>  4710</td>\n",
        "      <td> 0</td>\n",
        "    </tr>\n",
        "    <tr>\n",
        "      <th>985123</th>\n",
        "      <td> 145685</td>\n",
        "      <td>  4710</td>\n",
        "      <td> 1</td>\n",
        "    </tr>\n",
        "    <tr>\n",
        "      <th>985124</th>\n",
        "      <td> 145685</td>\n",
        "      <td>  5208</td>\n",
        "      <td> 0</td>\n",
        "    </tr>\n",
        "    <tr>\n",
        "      <th>985125</th>\n",
        "      <td> 145685</td>\n",
        "      <td>  1179</td>\n",
        "      <td> 0</td>\n",
        "    </tr>\n",
        "    <tr>\n",
        "      <th>985126</th>\n",
        "      <td> 145685</td>\n",
        "      <td>  7555</td>\n",
        "      <td> 0</td>\n",
        "    </tr>\n",
        "    <tr>\n",
        "      <th>985127</th>\n",
        "      <td> 145685</td>\n",
        "      <td>  7555</td>\n",
        "      <td> 1</td>\n",
        "    </tr>\n",
        "    <tr>\n",
        "      <th>985128</th>\n",
        "      <td> 145685</td>\n",
        "      <td> 14690</td>\n",
        "      <td> 0</td>\n",
        "    </tr>\n",
        "    <tr>\n",
        "      <th>985129</th>\n",
        "      <td> 145685</td>\n",
        "      <td> 14690</td>\n",
        "      <td> 1</td>\n",
        "    </tr>\n",
        "    <tr>\n",
        "      <th>985130</th>\n",
        "      <td> 145687</td>\n",
        "      <td>  9378</td>\n",
        "      <td> 0</td>\n",
        "    </tr>\n",
        "    <tr>\n",
        "      <th>985131</th>\n",
        "      <td> 145687</td>\n",
        "      <td>  1027</td>\n",
        "      <td> 0</td>\n",
        "    </tr>\n",
        "    <tr>\n",
        "      <th>985132</th>\n",
        "      <td> 145687</td>\n",
        "      <td>  3671</td>\n",
        "      <td> 0</td>\n",
        "    </tr>\n",
        "    <tr>\n",
        "      <th>985133</th>\n",
        "      <td> 145687</td>\n",
        "      <td>  9378</td>\n",
        "      <td> 0</td>\n",
        "    </tr>\n",
        "    <tr>\n",
        "      <th>985134</th>\n",
        "      <td> 145688</td>\n",
        "      <td>  8197</td>\n",
        "      <td> 0</td>\n",
        "    </tr>\n",
        "    <tr>\n",
        "      <th>985135</th>\n",
        "      <td> 145688</td>\n",
        "      <td>  4079</td>\n",
        "      <td> 0</td>\n",
        "    </tr>\n",
        "    <tr>\n",
        "      <th>985136</th>\n",
        "      <td> 145688</td>\n",
        "      <td>  4842</td>\n",
        "      <td> 0</td>\n",
        "    </tr>\n",
        "    <tr>\n",
        "      <th>985137</th>\n",
        "      <td> 145688</td>\n",
        "      <td> 14759</td>\n",
        "      <td> 0</td>\n",
        "    </tr>\n",
        "    <tr>\n",
        "      <th>985138</th>\n",
        "      <td> 145688</td>\n",
        "      <td> 15259</td>\n",
        "      <td> 0</td>\n",
        "    </tr>\n",
        "    <tr>\n",
        "      <th>985139</th>\n",
        "      <td> 145688</td>\n",
        "      <td> 13197</td>\n",
        "      <td> 0</td>\n",
        "    </tr>\n",
        "    <tr>\n",
        "      <th>985140</th>\n",
        "      <td> 145689</td>\n",
        "      <td> 14168</td>\n",
        "      <td> 0</td>\n",
        "    </tr>\n",
        "    <tr>\n",
        "      <th>985141</th>\n",
        "      <td> 145689</td>\n",
        "      <td>  5373</td>\n",
        "      <td> 0</td>\n",
        "    </tr>\n",
        "    <tr>\n",
        "      <th>985142</th>\n",
        "      <td> 145690</td>\n",
        "      <td>  3781</td>\n",
        "      <td> 0</td>\n",
        "    </tr>\n",
        "    <tr>\n",
        "      <th>985143</th>\n",
        "      <td> 145690</td>\n",
        "      <td>  5025</td>\n",
        "      <td> 0</td>\n",
        "    </tr>\n",
        "    <tr>\n",
        "      <th>985144</th>\n",
        "      <td> 145690</td>\n",
        "      <td>  5025</td>\n",
        "      <td> 1</td>\n",
        "    </tr>\n",
        "  </tbody>\n",
        "</table>\n",
        "<p>985145 rows \u00d7 3 columns</p>\n",
        "</div>"
       ],
       "metadata": {},
       "output_type": "pyout",
       "prompt_number": 8,
       "text": [
        "        SessionNo  ItemNo  TransType\n",
        "0               0   15029          0\n",
        "1               0   12103          0\n",
        "2               0   11755          0\n",
        "3               0    2246          0\n",
        "4               1    6498          0\n",
        "5               1    6498          1\n",
        "6               1    6498          0\n",
        "7               1    3726          0\n",
        "8               1    3726          1\n",
        "9               1    6498          0\n",
        "10              1    6720          0\n",
        "11              1   11396          0\n",
        "12              1   11396          1\n",
        "13              1    6498          2\n",
        "14              1    3726          2\n",
        "15              1   11396          2\n",
        "16              3    5335          0\n",
        "17              3     724          0\n",
        "18              3    9436          0\n",
        "19              4   10003          0\n",
        "20              4    5166          0\n",
        "21              4    1962          0\n",
        "22              4   15235          0\n",
        "23              4    1608          0\n",
        "24              4    5214          0\n",
        "25              4   11358          0\n",
        "26              4    7566          0\n",
        "27              4    2825          0\n",
        "28              4    5214          0\n",
        "29              4    1962          0\n",
        "...           ...     ...        ...\n",
        "985115     145683    3901          2\n",
        "985116     145683     329          2\n",
        "985117     145685   13867          0\n",
        "985118     145685   13805          0\n",
        "985119     145685   11800          0\n",
        "985120     145685   14161          0\n",
        "985121     145685    9266          0\n",
        "985122     145685    4710          0\n",
        "985123     145685    4710          1\n",
        "985124     145685    5208          0\n",
        "985125     145685    1179          0\n",
        "985126     145685    7555          0\n",
        "985127     145685    7555          1\n",
        "985128     145685   14690          0\n",
        "985129     145685   14690          1\n",
        "985130     145687    9378          0\n",
        "985131     145687    1027          0\n",
        "985132     145687    3671          0\n",
        "985133     145687    9378          0\n",
        "985134     145688    8197          0\n",
        "985135     145688    4079          0\n",
        "985136     145688    4842          0\n",
        "985137     145688   14759          0\n",
        "985138     145688   15259          0\n",
        "985139     145688   13197          0\n",
        "985140     145689   14168          0\n",
        "985141     145689    5373          0\n",
        "985142     145690    3781          0\n",
        "985143     145690    5025          0\n",
        "985144     145690    5025          1\n",
        "\n",
        "[985145 rows x 3 columns]"
       ]
      }
     ],
     "prompt_number": 8
    },
    {
     "cell_type": "code",
     "collapsed": false,
     "input": [
      "ds_buy = ds[ds.TransType==2][['SessionNo', 'ItemNo']]\n",
      "arr = np.array(ds_buy)\n",
      "users, inv_users = np.unique(arr[:, 0], return_inverse=True)\n",
      "products, inv_products = np.unique(arr[:, 1], return_inverse=True)\n",
      "print 'Unique sessions:', len(users), 'Unique products', len(products)\n",
      "#Scipy spars"
     ],
     "language": "python",
     "metadata": {
      "slideshow": {
       "slide_type": "fragment"
      }
     },
     "outputs": [
      {
       "output_type": "stream",
       "stream": "stdout",
       "text": [
        "Unique sessions: 14164 Unique products 9679\n"
       ]
      }
     ],
     "prompt_number": 10
    },
    {
     "cell_type": "code",
     "collapsed": false,
     "input": [
      "import scipy.sparse\n",
      "import scipy.sparse.linalg\n",
      "%matplotlib inline \n",
      "import matplotlib.pyplot as plt\n",
      "plt.xkcd()\n",
      "nnz = len(inv_users)\n",
      "spmat = scipy.sparse.coo_matrix((np.ones(nnz), (inv_users, inv_products)))\n",
      "r =  2#Approximation rank\n",
      "u, s, v = scipy.sparse.linalg.svds(spmat, r)\n",
      "n = spmat.shape[0]\n",
      "m = spmat.shape[1]\n",
      "q = np.zeros(n)\n",
      "user_id = 5\n",
      "q[user_id] = 1.0\n",
      "\n",
      "qrec = q.T.dot(u).dot(np.diag(s)).dot(v)\n",
      "qrec = qrec / np.max(abs(qrec))\n",
      "qb = spmat.T.dot(q)\n",
      "plt.plot(qrec)\n",
      "plt.plot(qb)\n",
      "plt.xlabel('Product ID')\n",
      "plt.ylabel('Recommendation')"
     ],
     "language": "python",
     "metadata": {
      "slideshow": {
       "slide_type": "fragment"
      }
     },
     "outputs": [
      {
       "metadata": {},
       "output_type": "pyout",
       "prompt_number": 17,
       "text": [
        "<matplotlib.text.Text at 0x1143df050>"
       ]
      },
      {
       "metadata": {},
       "output_type": "display_data",
       "png": "[encoded data removed]",
       "text": [
        "<matplotlib.figure.Figure at 0x104436390>"
       ]
      }
     ],
     "prompt_number": 17
    },
    {
     "cell_type": "markdown",
     "metadata": {
      "slideshow": {
       "slide_type": "slide"
      }
     },
     "source": [
      "## Application 3: Dense matrix compression\n",
      "\n",
      "Dense matrices typically require $N^2$ elements to be stored. For $N \\sim 10^4 - 10^5$ the memory requirements. A low rank approximation can reduces this number of $\\mathcal{O}(Nr)$"
     ]
    },
    {
     "cell_type": "code",
     "collapsed": false,
     "input": [
      "import numpy as np\n",
      "%matplotlib inline\n",
      "import matplotlib.pyplot as plt\n",
      "plt.xkcd()\n",
      "n = 256\n",
      "a = [[1.0/(np.sqrt(i + 3 * j + 0.5)) for i in xrange(n)] for j in xrange(n)]\n",
      "a = np.array(a)\n",
      "u, s, v = np.linalg.svd(a)\n",
      "plt.semilogy(s/s[0])\n",
      "plt.title('Singular values decay for a Hilbert matrix')"
     ],
     "language": "python",
     "metadata": {
      "slideshow": {
       "slide_type": "fragment"
      }
     },
     "outputs": [
      {
       "metadata": {},
       "output_type": "pyout",
       "prompt_number": 22,
       "text": [
        "<matplotlib.text.Text at 0x1157e4bd0>"
       ]
      },
      {
       "metadata": {},
       "output_type": "display_data",
       "png": "[encoded data removed]",
       "text": [
        "<matplotlib.figure.Figure at 0x11579fad0>"
       ]
      }
     ],
     "prompt_number": 22
    },
    {
     "cell_type": "markdown",
     "metadata": {
      "slideshow": {
       "slide_type": "slide"
      }
     },
     "source": [
      "## A more realistic example\n",
      "We can try to test on a more realistic matrix, since solving linear systems with Hilbert matrix has little practical sense. Instead, we solve a linear system with a matrix\n",
      "$$A_{ij} = \\frac{1}{i - j + \\frac{1}{2}},$$\n",
      "which corresponds to an integral equation\n",
      "$$\n",
      "    \\int \\frac{q(y)dy}{x - y } = f(x).\n",
      "$$\n",
      "In real life, the equation  \n",
      "$$\n",
      "    \\int_{\\Omega} \\frac{q(y)dy}{\\Vert x - y\\Vert } = f(x),\n",
      "$$\n",
      "is solved, where $\\Omega$ is a surface in 3D. This is used, for example, in modelling integral circuits.\n",
      "Let us see what happens with the singular values."
     ]
    },
    {
     "cell_type": "code",
     "collapsed": false,
     "input": [
      "import numpy as np\n",
      "import numpy as np\n",
      "%matplotlib inline\n",
      "import matplotlib.pyplot as plt\n",
      "plt.xkcd()\n",
      "n = 256\n",
      "a = [[1.0/(i - j + 0.5) for i in xrange(n)] for j in xrange(n)]\n",
      "a = np.array(a)\n",
      "u, s, v = np.linalg.svd(a)\n",
      "plt.plot(s)\n",
      "plt.title('Singular values decay for a Cauchy-Hilbert matrix')\n",
      "plt.tight_layout()"
     ],
     "language": "python",
     "metadata": {
      "slideshow": {
       "slide_type": "fragment"
      }
     },
     "outputs": [
      {
       "metadata": {},
       "output_type": "display_data",
       "png": "[encoded data removed]",
       "text": [
        "<matplotlib.figure.Figure at 0x115844710>"
       ]
      }
     ],
     "prompt_number": 29
    },
    {
     "cell_type": "markdown",
     "metadata": {
      "slideshow": {
       "slide_type": "fragment"
      }
     },
     "source": [
      "What to do?  \n",
      "The idea is to break the matrix intro blocks  \n",
      "$$\n",
      "    A = \\begin{bmatrix}\n",
      "    A_{11} & A_{12} \\\\\n",
      "    A_{21} & A_{22}\n",
      "    \\end{bmatrix}\n",
      "$$\n",
      "and the blocks $A_{12}$ and $A_{21}$ will be of low-rank!  Let us try that.."
     ]
    },
    {
     "cell_type": "code",
     "collapsed": false,
     "input": [
      "import numpy as np\n",
      "import numpy as np\n",
      "%matplotlib inline\n",
      "import matplotlib.pyplot as plt\n",
      "plt.xkcd()\n",
      "n = 256\n",
      "a = [[1.0/(i - j + 0.5) for i in xrange(n)] for j in xrange(n)]\n",
      "a = np.array(a)\n",
      "\n",
      "a12 = a[:n/2,n/2:]\n",
      "a21 = a[n/2:,:n/2]\n",
      "s12 = np.linalg.svd(a12)[1]\n",
      "s21 = np.linalg.svd(a21)[1]\n",
      "plt.semilogy(s12)\n",
      "plt.semilogy(s21)#Actually, they are the same"
     ],
     "language": "python",
     "metadata": {
      "slideshow": {
       "slide_type": "fragment"
      }
     },
     "outputs": [
      {
       "metadata": {},
       "output_type": "pyout",
       "prompt_number": 30,
       "text": [
        "[<matplotlib.lines.Line2D at 0x115c44850>]"
       ]
      },
      {
       "metadata": {},
       "output_type": "display_data",
       "png": "[encoded data removed]",
       "text": [
        "<matplotlib.figure.Figure at 0x1156ff350>"
       ]
      }
     ],
     "prompt_number": 30
    },
    {
     "cell_type": "markdown",
     "metadata": {
      "slideshow": {
       "slide_type": "slide"
      }
     },
     "source": [
      "The whole idea is the applied recursively, leading to $\\mathcal{O}(N \\log N r)$ storage.  \n",
      "A good question is how to compute the approximation without computing all the entries -- here the skeleton decomposition comes into play: to get a rank-$r$ approximation, we can compute $r$ columns and $r$ rows.\n",
      "<img src=\"cross-pic.png\">"
     ]
    },
    {
     "cell_type": "markdown",
     "metadata": {
      "slideshow": {
       "slide_type": "slide"
      }
     },
     "source": [
      "## Application 4: Eigenfaces\n",
      "You will have this task in your HW.  The problem setup is similar: you have a database of faces,\n",
      "which you write down as a face-pixel matrix (you can also write this down as a 3D array as well). The goal is given a new face, find a best match to the one in the database. The scheme is the same: you compute the projection onto a low-dimensional subspace using the SVD, and then compare everything in this low-dimensional subspace. The example \"singular vectors\" look similar to the following.\n",
      "<img src=\"face-pc.png\" width=50%>"
     ]
    },
    {
     "cell_type": "markdown",
     "metadata": {
      "slideshow": {
       "slide_type": "slide"
      }
     },
     "source": [
      "## Higher dimensions\n",
      "There are several ways how to generalize SVD to multidimensional arrays (tensors). In data mining, this is very natural. For example, in real recommender system, the data are organized as  \n",
      "\n",
      "**user-product-action**  \n",
      "\n",
      "where action is either \"watch\" or \"put into the bucket\" or \"buy\".  \n",
      "It is natural to organize such data into a 3D tensor of size  \n",
      "\n",
      "\n",
      "**number of users $\\times$ number of products $\\times$ number of actions.**\n",
      "\n",
      "This is what High Order SVD (HOSVD) is used.  \n",
      "The idea is to decompose a tensor in the form  \n",
      "$$\n",
      "  A_{ijk} \\approx \\sum_{\\alpha \\beta \\gamma} U_{i \\alpha} V_{j \\beta} W_{k \\gamma} g_{\\alpha \\beta \\gamma}.\n",
      "$$\n",
      "This can be done by considering three **unfoldings** of a tensor and computing its left singular matrices. "
     ]
    },
    {
     "cell_type": "markdown",
     "metadata": {
      "slideshow": {
       "slide_type": "slide"
      }
     },
     "source": [
      "##### Questions?"
     ]
    },
    {
     "cell_type": "code",
     "collapsed": false,
     "input": [
      "from IPython.core.display import HTML\n",
      "def css_styling():\n",
      "    styles = open(\"./styles/custom.css\", \"r\").read()\n",
      "    return HTML(styles)\n",
      "css_styling()"
     ],
     "language": "python",
     "metadata": {
      "slideshow": {
       "slide_type": "skip"
      }
     },
     "outputs": [
      {
       "html": [
        "<link href='http://fonts.googleapis.com/css?family=Fenix' rel='stylesheet' type='text/css'>\n",
        "<link href='http://fonts.googleapis.com/css?family=Alegreya+Sans:100,300,400,500,700,800,900,100italic,300italic,400italic,500italic,700italic,800italic,900italic' rel='stylesheet' type='text/css'>\n",
        "<link href='http://fonts.googleapis.com/css?family=Source+Code+Pro:300,400' rel='stylesheet' type='text/css'>\n",
        "<style>\n",
        "    @font-face {\n",
        "        font-family: \"Computer Modern\";\n",
        "        src: url('http://mirrors.ctan.org/fonts/cm-unicode/fonts/otf/cmunss.otf');\n",
        "    }\n",
        "    div.cell{\n",
        "        /*width:80%;*/\n",
        "        /*margin-left:auto !important;\n",
        "        margin-right:auto;*/\n",
        "    }\n",
        "    h1 {\n",
        "        font-family: 'Alegreya Sans', sans-serif;\n",
        "    }\n",
        "    h2 {\n",
        "        font-family: 'Fenix', serif;\n",
        "    }\n",
        "    h3{\n",
        "\t\tfont-family: 'Fenix', serif;\n",
        "        margin-top:12px;\n",
        "        margin-bottom: 3px;\n",
        "       }\n",
        "\th4{\n",
        "\t\tfont-family: 'Fenix', serif;\n",
        "       }\n",
        "    h5 {\n",
        "        font-family: 'Alegreya Sans', sans-serif;\n",
        "    }\t   \n",
        "    div.text_cell_render{\n",
        "        font-family: 'Alegreya Sans',Computer Modern, \"Helvetica Neue\", Arial, Helvetica, Geneva, sans-serif;\n",
        "        line-height: 1.2;\n",
        "        font-size: 160%;\n",
        "        /*width:70%;*/\n",
        "        /*margin-left:auto;*/\n",
        "        margin-right:auto;\n",
        "    }\n",
        "    .CodeMirror{\n",
        "            font-family: \"Source Code Pro\";\n",
        "\t\t\tfont-size: 90%;\n",
        "    }\n",
        "/*    .prompt{\n",
        "        display: None;\n",
        "    }*/\n",
        "    .text_cell_render h1 {\n",
        "        font-weight: 200;\n",
        "        font-size: 50pt;\n",
        "\t\tline-height: 110%;\n",
        "        color:#CD2305;\n",
        "        margin-bottom: 0.5em;\n",
        "        margin-top: 0.5em;\n",
        "        display: block;\n",
        "    }\t\n",
        "    .text_cell_render h5 {\n",
        "        font-weight: 300;\n",
        "        font-size: 16pt;\n",
        "        color: #CD2305;\n",
        "        font-style: italic;\n",
        "        margin-bottom: .5em;\n",
        "        margin-top: 0.5em;\n",
        "        display: block;\n",
        "    }\n",
        "    \n",
        "    .warning{\n",
        "        color: rgb( 240, 20, 20 )\n",
        "        }  \n",
        "</style>\n",
        "<script>\n",
        "    MathJax.Hub.Config({\n",
        "                        TeX: {\n",
        "                           extensions: [\"AMSmath.js\"]\n",
        "                           },\n",
        "                tex2jax: {\n",
        "                    inlineMath: [ ['$','$'], [\"\\\\(\",\"\\\\)\"] ],\n",
        "                    displayMath: [ ['$$','$$'], [\"\\\\[\",\"\\\\]\"] ]\n",
        "                },\n",
        "                displayAlign: 'center', // Change this to 'center' to center equations.\n",
        "                \"HTML-CSS\": {\n",
        "                    styles: {'.MathJax_Display': {\"margin\": 4}}\n",
        "                }\n",
        "        });\n",
        "</script>\n"
       ],
       "metadata": {},
       "output_type": "pyout",
       "prompt_number": 137,
       "text": [
        "<IPython.core.display.HTML at 0x1224ad390>"
       ]
      }
     ],
     "prompt_number": 137
    }
   ],
   "metadata": {}
  }
 ]
}
