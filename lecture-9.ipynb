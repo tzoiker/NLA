{
 "metadata": {
  "name": "",
  "signature": "sha256:1a0de01acdfd6b753a9e127c9b81868b2099120f4336e8b8867961f56e589a93"
 },
 "nbformat": 3,
 "nbformat_minor": 0,
 "worksheets": [
  {
   "cells": [
    {
     "cell_type": "heading",
     "level": 1,
     "metadata": {
      "slideshow": {
       "slide_type": "slide"
      }
     },
     "source": [
      "Lecture 9: Structured matrices"
     ]
    },
    {
     "cell_type": "markdown",
     "metadata": {
      "slideshow": {
       "slide_type": "slide"
      }
     },
     "source": [
      "## Syllabus\n",
      "**Week 1:** Python intro  \n",
      "**Week 2:** Matrices, vectors, norms, ranks  \n",
      "**Week 3:** Linear systems, eigenvectors, eigenvalues  \n",
      "**Week 4:** Singular value decomposition + test + homework seminar  \n",
      "**Week 5:** Sparse & structured matrices"
     ]
    },
    {
     "cell_type": "markdown",
     "metadata": {
      "slideshow": {
       "slide_type": "slide"
      }
     },
     "source": [
      "##Recap of the previous lecture\n",
      "- Sparse matrices, compressed sparse row format\n",
      "- Gaussian elimination and graphs"
     ]
    },
    {
     "cell_type": "markdown",
     "metadata": {
      "slideshow": {
       "slide_type": "slide"
      }
     },
     "source": [
      "## Today lecture\n",
      "Today we will talk about **structured matrices**.\n",
      "\n",
      "- Shift-invariant structure: Toeplitz matrices\n",
      "- Circulant matrices and FFT\n",
      "- What is an inverse of a Toeplitz matrix?\n",
      "- Displacement rank (and Gohberg-Semencul formula)\n",
      "- Multilevel matrices"
     ]
    },
    {
     "cell_type": "markdown",
     "metadata": {
      "slideshow": {
       "slide_type": "slide"
      }
     },
     "source": [
      "In many applications, the linear transformation is described by a shift-invariant integral operator,  also called **convolution**:\n",
      "$$\n",
      "   f(x) = \\int_{\\Pi} K(x -y) u(y) dy,\n",
      "$$\n",
      "where $\\Pi$ is a square in $\\mathbb{R}^d$.\n",
      "\n",
      "Example applications:\n",
      "- Image processing (blurring), $K(x) = \\exp(-\\sigma\\Vert x \\Vert^2)$.\n",
      "- Filters in image processing/signal processing\n",
      "- Integral equations, $K(x) = \\frac{1}{\\Vert x \\Vert}$ - electrostatics, $K(x)=\\exp(i k \\Vert x \\Vert)/(\\Vert x \\Vert)$.\n",
      "- Autoregressive processes ($y(t) = \\sum_k c_k y(t - t_k)$)"
     ]
    },
    {
     "cell_type": "markdown",
     "metadata": {
      "slideshow": {
       "slide_type": "fragment"
      }
     },
     "source": [
      "After the discretization on a uniform grid, we get **discrete convolution**:  \n",
      "$$\n",
      "     y_i = \\sum_{j} t_{i - j} x_j,\n",
      "$$\n",
      "and the matrix $T_{ij} = t_{i - j}, i, j = 1, \\ldots, n$ is called a **Toeplitz matrix**: on each diagonal we have the same value."
     ]
    },
    {
     "cell_type": "markdown",
     "metadata": {
      "slideshow": {
       "slide_type": "slide"
      }
     },
     "source": [
      "For $4 \\times 4$ case it looks as follows:\n",
      "$$\n",
      "     T = \\begin{pmatrix}\n",
      "           t_0 & t_{-1} & t_{-2} & t_{-3} \\\\\n",
      "           t_1 & t_0 & t_{-1} & t_{-2} \\\\\n",
      "           t_2 & t_1 & t_0 & t_{-1} \\\\\n",
      "           t_3 & t_2 & t_1 & t_0 \n",
      "         \\end{pmatrix},\n",
      "$$\n",
      "and the matrix is completely defined by **2n-1** parameters (first column, first row minus the first element).  \n",
      "\n",
      "Now, let us do a short demo on how the Toeplitz matrices can be used."
     ]
    },
    {
     "cell_type": "markdown",
     "metadata": {
      "slideshow": {
       "slide_type": "slide"
      }
     },
     "source": [
      "Consider a one-dimensional signal"
     ]
    },
    {
     "cell_type": "code",
     "collapsed": false,
     "input": [
      "import numpy as np\n",
      "import matplotlib.pyplot as plt\n",
      "%matplotlib inline\n",
      "n = 128\n",
      "u = np.zeros(n)\n",
      "u[9] = 0.25\n",
      "u[10] = 0.5\n",
      "u[11] = 0.25\n",
      "\n",
      "u[70] = 1\n",
      "plt.plot(u)"
     ],
     "language": "python",
     "metadata": {
      "slideshow": {
       "slide_type": "fragment"
      }
     },
     "outputs": [
      {
       "metadata": {},
       "output_type": "pyout",
       "prompt_number": 1,
       "text": [
        "[<matplotlib.lines.Line2D at 0x10e4552d0>]"
       ]
      },
      {
       "metadata": {},
       "output_type": "display_data",
       "png": "[encoded data removed]",
       "text": [
        "<matplotlib.figure.Figure at 0x10c77ad10>"
       ]
      }
     ],
     "prompt_number": 1
    },
    {
     "cell_type": "markdown",
     "metadata": {
      "slideshow": {
       "slide_type": "fragment"
      }
     },
     "source": [
      "Do some blurring of the signal"
     ]
    },
    {
     "cell_type": "code",
     "collapsed": false,
     "input": [
      "c = 1\n",
      "T = [[np.exp(-0.1 * (i - j) ** 2) for i in xrange(n)] for j in xrange(n)]\n",
      "T = c * np.array(T)\n",
      "y = T.dot(u)\n",
      "p = np.arange(n)\n",
      "plt.plot(p, y, label='blurred')\n",
      "plt.plot(p, u, label='original')\n",
      "plt.legend(loc='best')"
     ],
     "language": "python",
     "metadata": {
      "slideshow": {
       "slide_type": "fragment"
      }
     },
     "outputs": [
      {
       "metadata": {},
       "output_type": "pyout",
       "prompt_number": 7,
       "text": [
        "<matplotlib.legend.Legend at 0x10eed7b10>"
       ]
      },
      {
       "metadata": {},
       "output_type": "display_data",
       "png": "[encoded data removed]",
       "text": [
        "<matplotlib.figure.Figure at 0x104338a10>"
       ]
      }
     ],
     "prompt_number": 7
    },
    {
     "cell_type": "markdown",
     "metadata": {
      "slideshow": {
       "slide_type": "fragment"
      }
     },
     "source": [
      "Now add some noise"
     ]
    },
    {
     "cell_type": "code",
     "collapsed": false,
     "input": [
      "e = np.random.randn(n)\n",
      "w = y + 1e-3 * e\n",
      "plt.plot(w)\n",
      "plt.plot(y)"
     ],
     "language": "python",
     "metadata": {
      "slideshow": {
       "slide_type": "fragment"
      }
     },
     "outputs": [
      {
       "metadata": {},
       "output_type": "pyout",
       "prompt_number": 9,
       "text": [
        "[<matplotlib.lines.Line2D at 0x10eddb210>]"
       ]
      },
      {
       "metadata": {},
       "output_type": "display_data",
       "png": "[encoded data removed]",
       "text": [
        "<matplotlib.figure.Figure at 0x10e942550>"
       ]
      }
     ],
     "prompt_number": 9
    },
    {
     "cell_type": "markdown",
     "metadata": {
      "slideshow": {
       "slide_type": "fragment"
      }
     },
     "source": [
      "Now let us do the \"deblurring\" (we assume, that we know the matrix T)."
     ]
    },
    {
     "cell_type": "code",
     "collapsed": false,
     "input": [
      "urec = np.linalg.solve(T, w)\n",
      "plt.plot(urec)"
     ],
     "language": "python",
     "metadata": {
      "slideshow": {
       "slide_type": "fragment"
      }
     },
     "outputs": [
      {
       "metadata": {},
       "output_type": "pyout",
       "prompt_number": 10,
       "text": [
        "[<matplotlib.lines.Line2D at 0x10f46cd10>]"
       ]
      },
      {
       "metadata": {},
       "output_type": "display_data",
       "png": "[encoded data removed]",
       "text": [
        "<matplotlib.figure.Figure at 0x10f377950>"
       ]
      }
     ],
     "prompt_number": 10
    },
    {
     "cell_type": "markdown",
     "metadata": {
      "slideshow": {
       "slide_type": "fragment"
      }
     },
     "source": [
      "It fails completely! What to do? Use SVD approximation to the matrix T."
     ]
    },
    {
     "cell_type": "code",
     "collapsed": false,
     "input": [
      "u1, s1, v1 = np.linalg.svd(T)\n",
      "r = 70\n",
      "u1 = u1[:, :r]\n",
      "s1 = s1[:r]\n",
      "v1 = v1[:r, :]\n",
      "urec_svd = v1.T.dot(u1.T.dot(w) / s1)\n",
      "plt.plot(urec_svd)\n",
      "plt.plot(u)"
     ],
     "language": "python",
     "metadata": {
      "slideshow": {
       "slide_type": "fragment"
      }
     },
     "outputs": [
      {
       "metadata": {},
       "output_type": "pyout",
       "prompt_number": 16,
       "text": [
        "[<matplotlib.lines.Line2D at 0x110293b90>]"
       ]
      },
      {
       "metadata": {},
       "output_type": "display_data",
       "png": "[encoded data removed]",
       "text": [
        "<matplotlib.figure.Figure at 0x11019bcd0>"
       ]
      }
     ],
     "prompt_number": 16
    },
    {
     "cell_type": "markdown",
     "metadata": {
      "slideshow": {
       "slide_type": "slide"
      }
     },
     "source": [
      "## Questions\n",
      "1. What is the complexity of taking Toeplitz matrix-by-vector product?\n",
      "2. What is the complexity of solving linear systems with Toeplitz matrices?"
     ]
    },
    {
     "cell_type": "markdown",
     "metadata": {
      "slideshow": {
       "slide_type": "slide"
      }
     },
     "source": [
      "## Matrix-by-vector product\n",
      "A Toeplitz matrix is defined by $2n-1$ parameters, so we migh expect a $\\mathcal{O}(n \\log n)$ algorithm.  \n",
      "How we can do that?"
     ]
    },
    {
     "cell_type": "markdown",
     "metadata": {
      "slideshow": {
       "slide_type": "slide"
      }
     },
     "source": [
      "## Convolutions on the continious level\n",
      "There is a well-known result that convolution is  a product in the **Fourier domain**:  \n",
      "$$f = g * h, \\quad \\mbox{or } f(x) = \\int g(x) h(x - y) dy,$$  \n",
      "$$\\widehat{f} = \\widehat{g} \\widehat{h},$$\n",
      "where\n",
      "$$\n",
      "   \\widehat{f}(k) = \\int e^{i k x} f(x) dx.\n",
      "$$\n",
      "is the **Fourier transform of a function**."
     ]
    },
    {
     "cell_type": "markdown",
     "metadata": {
      "slideshow": {
       "slide_type": "fragment"
      }
     },
     "source": [
      "Thus, the algorithm can look as follows:  \n",
      "1. Compute Fourier transforms $\\widehat{g}, \\widehat{h}$.\n",
      "2. Multiply them $\\widehat{f} = \\widehat{g} \\widehat{h}$.\n",
      "3. Compute inverse Fourier transform\n",
      "   $$\n",
      "      f(x) = \\int e^{-ik x} \\widehat{f}(k) dk.\n",
      "   $$"
     ]
    },
    {
     "cell_type": "markdown",
     "metadata": {
      "slideshow": {
       "slide_type": "fragment"
      }
     },
     "source": [
      "But we have to work on the discrete level, so we might replace the continious Fourier transform by the  **discrete Fourier transform** (DFT). "
     ]
    },
    {
     "cell_type": "markdown",
     "metadata": {
      "slideshow": {
       "slide_type": "slide"
      }
     },
     "source": [
      "## Discrete Fourier transform\n",
      "\n",
      "The DFT matrix is defined as\n",
      "$$\n",
      "   F_{kl} = w^{kl}, \\quad k, l = 0, \\quad n-1,\n",
      "$$\n",
      "and $w = \\exp(\\frac{2 \\pi i}{n})$ is the root of unity.  \n",
      "It is a discretization of the integral Fourier transform.  "
     ]
    },
    {
     "cell_type": "markdown",
     "metadata": {
      "slideshow": {
       "slide_type": "fragment"
      }
     },
     "source": [
      "But a Toeplitz matrix is defined by $(2n-1)$ parameters!  \n",
      "To apply Fast Fourier Transform (FFT) we have to consider a subclass of Toeplitz matrices:  \n",
      "**circulant matrices**."
     ]
    },
    {
     "cell_type": "markdown",
     "metadata": {
      "slideshow": {
       "slide_type": "slide"
      }
     },
     "source": [
      "## Circulant matrices\n",
      "A circulant matrix is a Toeplitz matrix with  \n",
      "$$\n",
      "   t_{n - i} = t_i.\n",
      "$$\n",
      "Example:\n",
      "$$\n",
      "     C = \\begin{pmatrix}\n",
      "           c_0 & c_3 & c_2 & c_1 \\\\\n",
      "           c_1 & c_0 & c_3 & c_2 \\\\\n",
      "           c_2 & c_1 & c_0 & c_3 \\\\\n",
      "           c_3 & c_2 & c_1 & c_0 \n",
      "         \\end{pmatrix}.\n",
      "$$\n",
      "A circulant matrix is uniquely defined by its first column and has $n$ independent parameters."
     ]
    },
    {
     "cell_type": "markdown",
     "metadata": {
      "slideshow": {
       "slide_type": "slide"
      }
     },
     "source": [
      "## Spectral theorem \n",
      "Any circulant matrix $C$ is diagonalized by the **Fourier matrix** F.  \n",
      "$$\n",
      "    C = F^* \\Lambda F, \n",
      "$$\n",
      "and $\\Lambda_{ii} = \\lambda_i$ is the diagonal matrix and  \n",
      "$$\n",
      "   \\lambda = Fc, \n",
      "$$\n",
      "where $c$ is the first column of the circulant matrix."
     ]
    },
    {
     "cell_type": "markdown",
     "metadata": {
      "slideshow": {
       "slide_type": "slide"
      }
     },
     "source": [
      "## Proof\n",
      "Fourier matrix is unitary, $FF^* = I$. Thus, it is sufficient to show that the rows of the Fourier matrix are eigenvectors of the circulant matrix. And this is obvious from the definition. The eigenvalues also follow immediately."
     ]
    },
    {
     "cell_type": "markdown",
     "metadata": {
      "slideshow": {
       "slide_type": "slide"
      }
     },
     "source": [
      "## Fast circulant matrix-by-vector product\n",
      "Given the spectral theorem, it is easy to provide a $\\mathcal{O}(n \\log n)$ algorithm for circulant matrix-by-vector product via FFT.  "
     ]
    },
    {
     "cell_type": "markdown",
     "metadata": {
      "slideshow": {
       "slide_type": "fragment"
      }
     },
     "source": [
      "Indeed, \n",
      "$$\n",
      "   y = Cx = F^* \\Lambda F x = F^* \\Big( \\mathrm{diag}(Fc) \\Big) Fx,\n",
      "$$\n",
      "so you see a direct analogue with the continious case: \n",
      "1. Compute two direct FFTs\n",
      "2. Compute their elementwise product (diagonal matrix by vector)\n",
      "3. Compute one inverse FFT"
     ]
    },
    {
     "cell_type": "markdown",
     "metadata": {
      "slideshow": {
       "slide_type": "fragment"
      }
     },
     "source": [
      "A quick demo on the spectral theorem"
     ]
    },
    {
     "cell_type": "code",
     "collapsed": false,
     "input": [
      "import numpy as np\n",
      "import scipy.linalg\n",
      "n = 50\n",
      "b = np.random.randn(n)\n",
      "mm = scipy.linalg.circulant(b)\n",
      "mm1 = np.fft.ifft(mm, axis = 0)\n",
      "mm1 = np.fft.fft(mm1, axis = 1) \n",
      "#mm1 = np.fft.fft2(mm)\n",
      "print np.linalg.norm(mm1 - np.diag(np.diag(mm1)))\n",
      "w1 = np.linalg.eigvals(mm) \n",
      "w2 = np.fft.ifft(b) * n\n",
      "plt.plot(w1.real, w1.imag, ls='', marker='x')\n",
      "plt.plot(w2.real, w2.imag, ls='', marker='.')"
     ],
     "language": "python",
     "metadata": {
      "slideshow": {
       "slide_type": "fragment"
      }
     },
     "outputs": [
      {
       "output_type": "stream",
       "stream": "stdout",
       "text": [
        "1.04643809636e-14\n"
       ]
      },
      {
       "metadata": {},
       "output_type": "pyout",
       "prompt_number": 34,
       "text": [
        "[<matplotlib.lines.Line2D at 0x111bd3dd0>]"
       ]
      },
      {
       "metadata": {},
       "output_type": "display_data",
       "png": "[encoded data removed]",
       "text": [
        "<matplotlib.figure.Figure at 0x11051edd0>"
       ]
      }
     ],
     "prompt_number": 34
    },
    {
     "cell_type": "markdown",
     "metadata": {
      "slideshow": {
       "slide_type": "slide"
      }
     },
     "source": [
      "## Toeplitz matrix-by-vector product\n",
      "Fine, but how it helps is with the Toeplitz matrices.  \n",
      "The eigenvectors of the Toeplitz matrices are not the Fourier vectors (although they are **asymptotically similar**).  The idea is to embed a Toeplitz matrix into larger circulant matrix."
     ]
    },
    {
     "cell_type": "markdown",
     "metadata": {
      "slideshow": {
       "slide_type": "slide"
      }
     },
     "source": [
      "$$\n",
      "     T = \\begin{pmatrix}\n",
      "           t_0 & t_{-1} & t_{-2} & t_{-3} \\\\\n",
      "           t_1 & t_0 & t_{-1} & t_{-2} \\\\\n",
      "           t_2 & t_1 & t_0 & t_{-1} \\\\\n",
      "           t_3 & t_2 & t_1 & t_0 \n",
      "         \\end{pmatrix} \\rightarrow \\begin{pmatrix}\n",
      "           t_0 & t_{-1} & t_{-2} & t_{-3} &  t_3& t_2 & t_1  \\\\\n",
      "           t_1 & t_0 & t_{-1} & t_{-2} & t_{-3} & t_3 & t_2\\\\\n",
      "           t_2 & t_1 & t_0 & t_{-1} & t_{-2} & t_{-3} & t_3\\\\\n",
      "           t_3 & t_2 & t_1 & t_0  & t_{-1} & t_{-2} & t_{-3} \\\\\n",
      "           t_{-3}    & t_3    & t_2    & t_1     & t_0 & t_{-1} & t_{-2}\\\\\n",
      "           t_{-2}    & t_{-3}       & t_3    & t_2    & t_1     & t_0 & t_{-1} \\\\\n",
      "           t_{-1}    &  t_{-2}       &  t_{-3}      & t_3    & t_2    & t_1     & t_0 \\\\\n",
      "         \\end{pmatrix}\n",
      "$$"
     ]
    },
    {
     "cell_type": "markdown",
     "metadata": {
      "slideshow": {
       "slide_type": "fragment"
      }
     },
     "source": [
      "or \n",
      "$$\n",
      "    C = \\begin{bmatrix}\n",
      "         T & * \\\\\n",
      "         * & * \n",
      "        \\end{bmatrix},\n",
      "$$\n",
      "i.e. $T$ is a submatrix of a circulant matrix, and \n",
      "$$\n",
      "     C \\begin{bmatrix}\n",
      "         q \\\\\n",
      "         0\n",
      "       \\end{bmatrix} = \\begin{bmatrix}\n",
      "       T q \\\\\n",
      "       *\n",
      "        \\end{bmatrix}\n",
      "$$"
     ]
    },
    {
     "cell_type": "code",
     "collapsed": false,
     "input": [
      "n = 512\n",
      "a = np.random.randn(2*n)\n",
      "b = np.random.randn(2*n-1)\n",
      "%timeit np.fft.fft(a)\n",
      "%timeit np.fft.fft(b)"
     ],
     "language": "python",
     "metadata": {},
     "outputs": [
      {
       "output_type": "stream",
       "stream": "stdout",
       "text": [
        "100000 loops, best of 3: 12.5 \u00b5s per loop\n",
        "10000 loops, best of 3: 26.4 \u00b5s per loop"
       ]
      },
      {
       "output_type": "stream",
       "stream": "stdout",
       "text": [
        "\n"
       ]
      }
     ],
     "prompt_number": 37
    },
    {
     "cell_type": "markdown",
     "metadata": {
      "slideshow": {
       "slide_type": "slide"
      }
     },
     "source": [
      "## Matrix-by-vector product by a Toeplitz matrix\n",
      "Final algorithm:\n",
      "\n",
      "1. $c = [t_i; t_{n-i}]$, $x = [x; 0]$\n",
      "2. Compute circulant matrix-by-vector product\n",
      "3. Take the part of the solution\n",
      "\n",
      "This is an $\\mathcal{O}(n \\log n)$ algorithm."
     ]
    },
    {
     "cell_type": "markdown",
     "metadata": {
      "slideshow": {
       "slide_type": "slide"
      }
     },
     "source": [
      "## Multidimensional convolution\n",
      "In two dimensions (one of the most important cases) the discrete convolution is defined as\n",
      "$$\n",
      "   y_{ii'} = \\sum_{jj'} T_{(i-i')(j-j')} x_{jj'},\n",
      "$$\n",
      "which leads to **block Toeplitz matrices**: block Toeplitz with Toeplitz blocks (BTTB).\n",
      "(draw a picture on the board)."
     ]
    },
    {
     "cell_type": "markdown",
     "metadata": {
      "slideshow": {
       "slide_type": "slide"
      }
     },
     "source": [
      "## Block case\n",
      "The situation is the same: embed into **two-level circulant matrix** (of size $[(2n-1) \\times (2n-1)]^2$),\n",
      "do **two-dimensional FFT**, multiply and do inverse **two-dimensional FFT**.\n",
      "\n",
      "A two-dimensional FFT is simple:  it it just Kronecker product of two one-dimensional FFT. \n",
      "$$\n",
      "   F_2 = F \\otimes F.\n",
      "$$\n",
      "In practice, it means \"apply FFT to columns, and apply FFT to rows\"."
     ]
    },
    {
     "cell_type": "markdown",
     "metadata": {
      "slideshow": {
       "slide_type": "slide"
      }
     },
     "source": [
      "## Inversion of Toeplitz matrices\n",
      "\n",
      "Inversion of the circulant matrix is trivial:  $$C = F D F^* \\rightarrow C^{-1} = F D^{-1} F^*,$$\n",
      "and the inverse of a circulant matrix is a circulant matrix.  \n",
      "Inversion of Toeplitz matrices is notoriously difficult."
     ]
    },
    {
     "cell_type": "markdown",
     "metadata": {
      "slideshow": {
       "slide_type": "slide"
      }
     },
     "source": [
      "Inverse of Toeplitz  matrix is not a Toeplitz matrix!"
     ]
    },
    {
     "cell_type": "code",
     "collapsed": false,
     "input": [
      "import numpy as np\n",
      "import scipy\n",
      "from scipy.linalg import toeplitz\n",
      "n = 6\n",
      "c = np.arange(n)\n",
      "t = scipy.linalg.toeplitz(c**3)\n",
      "print t\n",
      "ii = np.linalg.inv(t)\n",
      "print 'Inverse:'\n",
      "print ii"
     ],
     "language": "python",
     "metadata": {
      "slideshow": {
       "slide_type": "fragment"
      }
     },
     "outputs": [
      {
       "output_type": "stream",
       "stream": "stdout",
       "text": [
        "[[  0   1   8  27  64 125]\n",
        " [  1   0   1   8  27  64]\n",
        " [  8   1   0   1   8  27]\n",
        " [ 27   8   1   0   1   8]\n",
        " [ 64  27   8   1   0   1]\n",
        " [125  64  27   8   1   0]]\n",
        "Inverse:\n",
        "[[ 0.04638091 -0.16018559  0.18135219 -0.06522316  0.07954043 -0.02896156]\n",
        " [-0.16018559  0.58152894 -0.73685373  0.36588599 -0.22669023  0.07954043]\n",
        " [ 0.18135219 -0.73685373  1.15422006 -0.88002651  0.36588599 -0.06522316]\n",
        " [-0.06522316  0.36588599 -0.88002651  1.15422006 -0.73685373  0.18135219]\n",
        " [ 0.07954043 -0.22669023  0.36588599 -0.73685373  0.58152894 -0.16018559]\n",
        " [-0.02896156  0.07954043 -0.06522316  0.18135219 -0.16018559  0.04638091]]\n"
       ]
      }
     ],
     "prompt_number": 41
    },
    {
     "cell_type": "markdown",
     "metadata": {
      "slideshow": {
       "slide_type": "slide"
      }
     },
     "source": [
      "## Displacement rank\n",
      "It is important to have a structure that defines the inverse of a Toeplitz matrices in $\\mathcal{O}(n \\log n)$ parameters (otherwise we will have to store $\\mathcal{O}(n^2)$ parameters).  \n",
      "The key idea here is the **displacement rank** concept."
     ]
    },
    {
     "cell_type": "markdown",
     "metadata": {
      "slideshow": {
       "slide_type": "fragment"
      }
     },
     "source": [
      "Introduce a shift matrix \n",
      "$$\n",
      "  Z_f = \\begin{bmatrix}\n",
      "  0 & 0 & 0 & f \\\\\n",
      "  1 & 0 & 0 & 0 \\\\\n",
      "  0 & 1 & 0 & 0 \\\\\n",
      "  0 & 0 & 1 & 0 \\\\\n",
      "  \\end{bmatrix}.\n",
      "$$"
     ]
    },
    {
     "cell_type": "markdown",
     "metadata": {
      "slideshow": {
       "slide_type": "fragment"
      }
     },
     "source": [
      "For any Toeplitz matrix $T$ it holds that  the matrix\n",
      "$$\n",
      "  M = L(T) = Z_f T - T Z_e\n",
      "$$\n",
      "has **rank 2**.\n",
      "This is the definition of **displacement rank**: for a fixed pair $Z_f$, $Z_e$, $L(T)$ has rank at most $r$."
     ]
    },
    {
     "cell_type": "markdown",
     "metadata": {
      "slideshow": {
       "slide_type": "slide"
      }
     },
     "source": [
      "## Displacement rank is preserved by inversion!\n",
      "**Theorem** If a matrix has displacement rank $r$ for a pair of generators $Z_f, Z_e$, then the inverse also has displacement rank for anot higher then $r$ for a pair of generators $Z^{\\top}_e, Z^{\\top}_f$."
     ]
    },
    {
     "cell_type": "markdown",
     "metadata": {
      "slideshow": {
       "slide_type": "slide"
      }
     },
     "source": [
      "## Proof\n",
      "$$Z_f T - T Z_e = UV^{\\top},$$\n",
      "therefore\n",
      "$$\n",
      "    T^{-1} Z_f - Z_e T^{-1} = T^{-1} U V^{\\top} T^{-1},\n",
      "$$\n",
      "and the right-hand side has rank at most $r$. Moreover, if the right-hand side is given,\n",
      "it is  easy to recover the elements of the matrix, or even compute matrix-by-vector products.  \n",
      "Further reading is a [paper by Victor Pan](http://comet.lehman.cuny.edu/vpan/pdf/188b.pdf)"
     ]
    },
    {
     "cell_type": "markdown",
     "metadata": {
      "slideshow": {
       "slide_type": "slide"
      }
     },
     "source": [
      "This is not an inversion algorithm, it is only the structure of the inverse.  \n",
      "**Gohberg-Semencul** algorithm was the first work on the subject and presented an $\\mathcal{O}(n^2)$ algorithm.  \n",
      "Superfast algorithms ($\\mathcal{O}(n \\log n)$) are typically quite complicated, not stable and require the recursion."
     ]
    },
    {
     "cell_type": "markdown",
     "metadata": {
      "slideshow": {
       "slide_type": "slide"
      }
     },
     "source": [
      "## Cauchy matrices\n",
      "A matrix is called a Cauchy-like matrix (another example of a structured matrix), if  \n",
      "$$\n",
      "   a_{ij} = \\frac{b_{ij}}{(x_i - y_j)},\n",
      "$$\n",
      "where matrix $B$ is of low rank.  A Cauchy matrix corresponds to the case when $b_{ij} = 1$. "
     ]
    },
    {
     "cell_type": "markdown",
     "metadata": {
      "slideshow": {
       "slide_type": "slide"
      }
     },
     "source": [
      "##Displacement structure of the Cauchy matrix\n",
      "Displacement structure of the Cauchy-like matrix is simple:  \n",
      "$$\n",
      "     x_i a_{ij} - a_{ij} y_j = b_{ij} (x_i - y_j),\n",
      "$$\n",
      "i.e. $L(A) = D_1 A - A D_2$.  \n",
      "We can transform generators from one case to another. If we diagonalize $Z_e, Z_f$, we get the diagonal matrices,  \n",
      "i.e. by FFT we can reduce the Toeplitz matrix to a Cauchy-like matrix.  "
     ]
    },
    {
     "cell_type": "markdown",
     "metadata": {
      "slideshow": {
       "slide_type": "slide"
      }
     },
     "source": [
      "Good news about the Cauchy-like matrix is that there is an explicit inverse formula,\n",
      "$$\n",
      "   a_{ij} = \\frac{b_{ij}}{(x_i - y_j)},\n",
      "$$\n",
      "which also allows for **pivoting**  \n",
      "(permuting rows and columns of a Cauchy-like matrix leaves it a Cauchy-like matrix)."
     ]
    },
    {
     "cell_type": "markdown",
     "metadata": {
      "slideshow": {
       "slide_type": "slide"
      }
     },
     "source": [
      "## FFT of a Toeplitz matrices and low-rank\n",
      "The transformation between the Cauchy-like matrices and Toeplitz matrices is just a Fourier transform:  \n",
      "$$\n",
      "     P = F T F^*.\n",
      "$$\n",
      "For a circulant matrix we will get the diagonal matrix.  \n",
      "But what we will get for a general Toeplitz matrix?"
     ]
    },
    {
     "cell_type": "code",
     "collapsed": false,
     "input": [
      "import numpy as np\n",
      "import scipy.sparse\n",
      "n = 100\n",
      "a = [[1.0 / (i - j + 0.5) for i in xrange(n)] for j in xrange(n)]\n",
      "a = np.array(a)\n",
      "#ex = np.ones(n);\n",
      "#a = scipy.sparse.spdiags(np.vstack((ex,  -2*ex, ex)), [-1, 0, 1], n, n, 'csr'); \n",
      "#a = a.todense()\n",
      "mm1 = np.fft.ifft(a, axis=0)\n",
      "mm1 = np.fft.fft(mm1, axis=1) "
     ],
     "language": "python",
     "metadata": {
      "slideshow": {
       "slide_type": "slide"
      }
     },
     "outputs": [],
     "prompt_number": 42
    },
    {
     "cell_type": "code",
     "collapsed": false,
     "input": [
      "%matplotlib inline\n",
      "import matplotlib.pyplot as plt\n",
      "from mpl_toolkits.mplot3d import axes3d\n",
      "\n",
      "fig = plt.figure()\n",
      "ax = fig.add_subplot(111, projection='3d')\n",
      "#fig, ax = ppl.subplots(111, projection='3d')\n",
      "t = np.arange(n)\n",
      "x, y = np.meshgrid(t, t)\n",
      "ax.plot_surface(x, y, mm1.real, rstride=10, cstride=10)\n",
      "ax.autoscale_view(tight=True)\n",
      "ax.view_init(elev=10., azim=40)\n",
      "fig.tight_layout()\n",
      "#X, Y, Z = axes3d.get_test_data(0.05)\n",
      "#ax.plot_wireframe(X, Y, Z, rstride=10, cstride=10)\n"
     ],
     "language": "python",
     "metadata": {
      "slideshow": {
       "slide_type": "fragment"
      }
     },
     "outputs": [
      {
       "metadata": {},
       "output_type": "display_data",
       "png": "[encoded data removed]",
       "text": [
        "<matplotlib.figure.Figure at 0x111e5dc90>"
       ]
      }
     ],
     "prompt_number": 43
    },
    {
     "cell_type": "markdown",
     "metadata": {
      "slideshow": {
       "slide_type": "fragment"
      }
     },
     "source": [
      "The singularity is along the diagonal!  \n",
      "Off the diagonal we have nice and **low-rank blocks!**"
     ]
    },
    {
     "cell_type": "code",
     "collapsed": false,
     "input": [
      "b11 = mm1[n/2:, :][:, :n/2]\n",
      "s = np.linalg.svd(b11)[1]\n",
      "plt.semilogy(s)"
     ],
     "language": "python",
     "metadata": {
      "slideshow": {
       "slide_type": "fragment"
      }
     },
     "outputs": [
      {
       "metadata": {},
       "output_type": "pyout",
       "prompt_number": 44,
       "text": [
        "[<matplotlib.lines.Line2D at 0x112eb9e50>]"
       ]
      },
      {
       "metadata": {},
       "output_type": "display_data",
       "png": "[encoded data removed]",
       "text": [
        "<matplotlib.figure.Figure at 0x111e4af10>"
       ]
      }
     ],
     "prompt_number": 44
    },
    {
     "cell_type": "markdown",
     "metadata": {
      "slideshow": {
       "slide_type": "slide"
      }
     },
     "source": [
      "## Block-low rank matrices\n",
      "In fact there is more: every block outside the main diagonal has low rank. This class is called **quasiseparable matrices**. There exist exact $\\mathcal{O}(n)$ algorithms for their inversion (and the inverse of a quasiseparable matrix).  Thus, the algorithm:\n",
      "\n",
      "1. Compute quasiseparable representation: here you can do it in a fast way!\n",
      "2. Compute the inverse"
     ]
    },
    {
     "cell_type": "markdown",
     "metadata": {
      "slideshow": {
       "slide_type": "slide"
      }
     },
     "source": [
      "## A note on the block case\n",
      "For multilevel Toeplitz matrices there is not a lot known about the inversion.  \n",
      "The best known algorithms have complexity $\\mathcal{O}(N^{3/2})$. There is no explicit representation of the inverse.  \n",
      "However, there are a lot of possibilities for the **iterative algorithms**, since matrix-by-vector product is fast."
     ]
    },
    {
     "cell_type": "markdown",
     "metadata": {
      "slideshow": {
       "slide_type": "slide"
      }
     },
     "source": [
      "## Take home message\n",
      "- Toeplitz matrices\n",
      "- Circulant matrices and FFT\n",
      "- Displacement structure\n",
      "- Low-rank blocks in the Fourier transform (and quasiseparable matrices)"
     ]
    },
    {
     "cell_type": "markdown",
     "metadata": {
      "slideshow": {
       "slide_type": "slide"
      }
     },
     "source": [
      "##### Questions?"
     ]
    },
    {
     "cell_type": "code",
     "collapsed": false,
     "input": [
      "from IPython.core.display import HTML\n",
      "def css_styling():\n",
      "    styles = open(\"./styles/custom.css\", \"r\").read()\n",
      "    return HTML(styles)\n",
      "css_styling()"
     ],
     "language": "python",
     "metadata": {
      "slideshow": {
       "slide_type": "skip"
      }
     },
     "outputs": [
      {
       "html": [
        "<link href='http://fonts.googleapis.com/css?family=Fenix' rel='stylesheet' type='text/css'>\n",
        "<link href='http://fonts.googleapis.com/css?family=Alegreya+Sans:100,300,400,500,700,800,900,100italic,300italic,400italic,500italic,700italic,800italic,900italic' rel='stylesheet' type='text/css'>\n",
        "<link href='http://fonts.googleapis.com/css?family=Source+Code+Pro:300,400' rel='stylesheet' type='text/css'>\n",
        "<style>\n",
        "    @font-face {\n",
        "        font-family: \"Computer Modern\";\n",
        "        src: url('http://mirrors.ctan.org/fonts/cm-unicode/fonts/otf/cmunss.otf');\n",
        "    }\n",
        "    div.cell{\n",
        "        /*width:80%;*/\n",
        "        /*margin-left:auto !important;\n",
        "        margin-right:auto;*/\n",
        "    }\n",
        "    h1 {\n",
        "        font-family: 'Alegreya Sans', sans-serif;\n",
        "    }\n",
        "    h2 {\n",
        "        font-family: 'Fenix', serif;\n",
        "    }\n",
        "    h3{\n",
        "\t\tfont-family: 'Fenix', serif;\n",
        "        margin-top:12px;\n",
        "        margin-bottom: 3px;\n",
        "       }\n",
        "\th4{\n",
        "\t\tfont-family: 'Fenix', serif;\n",
        "       }\n",
        "    h5 {\n",
        "        font-family: 'Alegreya Sans', sans-serif;\n",
        "    }\t   \n",
        "    div.text_cell_render{\n",
        "        font-family: 'Alegreya Sans',Computer Modern, \"Helvetica Neue\", Arial, Helvetica, Geneva, sans-serif;\n",
        "        line-height: 1.2;\n",
        "        font-size: 160%;\n",
        "        /*width:70%;*/\n",
        "        /*margin-left:auto;*/\n",
        "        margin-right:auto;\n",
        "    }\n",
        "    .CodeMirror{\n",
        "            font-family: \"Source Code Pro\";\n",
        "\t\t\tfont-size: 90%;\n",
        "    }\n",
        "/*    .prompt{\n",
        "        display: None;\n",
        "    }*/\n",
        "    .text_cell_render h1 {\n",
        "        font-weight: 200;\n",
        "        font-size: 50pt;\n",
        "\t\tline-height: 110%;\n",
        "        color:#CD2305;\n",
        "        margin-bottom: 0.5em;\n",
        "        margin-top: 0.5em;\n",
        "        display: block;\n",
        "    }\t\n",
        "    .text_cell_render h5 {\n",
        "        font-weight: 300;\n",
        "        font-size: 16pt;\n",
        "        color: #CD2305;\n",
        "        font-style: italic;\n",
        "        margin-bottom: .5em;\n",
        "        margin-top: 0.5em;\n",
        "        display: block;\n",
        "    }\n",
        "    \n",
        "    .warning{\n",
        "        color: rgb( 240, 20, 20 )\n",
        "        }  \n",
        "</style>\n",
        "<script>\n",
        "    MathJax.Hub.Config({\n",
        "                        TeX: {\n",
        "                           extensions: [\"AMSmath.js\"]\n",
        "                           },\n",
        "                tex2jax: {\n",
        "                    inlineMath: [ ['$','$'], [\"\\\\(\",\"\\\\)\"] ],\n",
        "                    displayMath: [ ['$$','$$'], [\"\\\\[\",\"\\\\]\"] ]\n",
        "                },\n",
        "                displayAlign: 'center', // Change this to 'center' to center equations.\n",
        "                \"HTML-CSS\": {\n",
        "                    styles: {'.MathJax_Display': {\"margin\": 4}}\n",
        "                }\n",
        "        });\n",
        "</script>\n"
       ],
       "metadata": {},
       "output_type": "pyout",
       "prompt_number": 236,
       "text": [
        "<IPython.core.display.HTML at 0x114027510>"
       ]
      }
     ]
    }
   ],
   "metadata": {}
  }
 ]
}